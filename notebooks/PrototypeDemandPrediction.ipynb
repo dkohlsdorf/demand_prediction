{
 "cells": [
  {
   "cell_type": "markdown",
   "id": "3f67ba7a-67d9-4444-b8e9-075dfd0e329a",
   "metadata": {},
   "source": [
    "# Feature Engineer"
   ]
  },
  {
   "cell_type": "code",
   "execution_count": 62,
   "id": "dcb0d6c4-221b-4089-b8d0-2836789f689b",
   "metadata": {},
   "outputs": [],
   "source": [
    "import zipfile\n",
    "import pandas as pd\n",
    "import matplotlib.pyplot as plt\n",
    "import seaborn as sns\n",
    "import matplotlib.dates as mdates\n",
    "\n",
    "from matplotlib.ticker import StrMethodFormatter\n",
    "from sklearn.preprocessing import MinMaxScaler\n",
    "\n",
    "\n",
    "from collections import namedtuple, defaultdict"
   ]
  },
  {
   "cell_type": "code",
   "execution_count": 63,
   "id": "12fa5a42-b856-45d9-8466-da0f52538024",
   "metadata": {},
   "outputs": [
    {
     "name": "stderr",
     "output_type": "stream",
     "text": [
      "/tmp/ipykernel_6152/1904672436.py:9: FutureWarning: The default value of regex will change from True to False in a future version. In addition, single character regular expressions will *not* be treated as literal strings when regex=True.\n",
      "  df['Order_Demand'] = df['Order_Demand'].str.replace('(',\"\")\n",
      "/tmp/ipykernel_6152/1904672436.py:10: FutureWarning: The default value of regex will change from True to False in a future version. In addition, single character regular expressions will *not* be treated as literal strings when regex=True.\n",
      "  df['Order_Demand'] = df['Order_Demand'].str.replace(')',\"\")\n"
     ]
    }
   ],
   "source": [
    "zip = zipfile.ZipFile('../data/archive.zip')\n",
    "fp = zip.open('Historical Product Demand.csv') \n",
    "df = pd.read_csv(fp)\n",
    "\n",
    "\n",
    "df.dropna(subset=['Date'], inplace=True)\n",
    "df.dropna(subset=['Order_Demand'], inplace=True)\n",
    "\n",
    "df['Order_Demand'] = df['Order_Demand'].str.replace('(',\"\")\n",
    "df['Order_Demand'] = df['Order_Demand'].str.replace(')',\"\")\n",
    "df['Order_Demand'] = df['Order_Demand'].astype('int64')\n",
    "\n",
    "df['Date'] = pd.to_datetime(df['Date']) \n",
    "df.sort_values('Date', inplace=True)\n",
    "\n",
    "df['Month']  = df['Date'].dt.month_name()\n",
    "df['Year']   = df['Date'].dt.year\n",
    "df['Months'] = df['Date'].dt.to_period('M').dt.to_timestamp()"
   ]
  },
  {
   "cell_type": "code",
   "execution_count": 64,
   "id": "e3d47976-2b41-4007-a353-0055a0cdda91",
   "metadata": {},
   "outputs": [],
   "source": [
    "df_whse_a = df[df.Warehouse == 'Whse_A']"
   ]
  },
  {
   "cell_type": "code",
   "execution_count": 65,
   "id": "4b0a868c-cf27-4915-8ddc-ef77a5561c2f",
   "metadata": {},
   "outputs": [
    {
     "name": "stdout",
     "output_type": "stream",
     "text": [
      "\n",
      "#rows:       142335\n",
      "#products:   427\n",
      "#categories: 25\n",
      "#warehouse:  1\n",
      "\n"
     ]
    }
   ],
   "source": [
    "n_products = len(set(df_whse_a['Product_Code']))\n",
    "n_rows = len(df_whse_a)\n",
    "n_warehouse = len(set(df_whse_a['Warehouse']))\n",
    "n_categories = len(set(df_whse_a['Product_Category']))\n",
    "\n",
    "print(f\"\"\"\n",
    "#rows:       {n_rows}\n",
    "#products:   {n_products}\n",
    "#categories: {n_categories}\n",
    "#warehouse:  {n_warehouse}\n",
    "\"\"\")"
   ]
  },
  {
   "cell_type": "code",
   "execution_count": 66,
   "id": "376e9a45-84d3-49d5-8a79-07f6ae600544",
   "metadata": {},
   "outputs": [],
   "source": [
    "x = df_whse_a[(df_whse_a.Months >= '2012-01-01') & (df_whse_a.Months < '2017-01-01')].groupby('Months')['Order_Demand'].sum()\n",
    "x = x.reset_index()"
   ]
  },
  {
   "cell_type": "code",
   "execution_count": 67,
   "id": "45a6578a-a640-4420-be9e-4d7c58e17a60",
   "metadata": {},
   "outputs": [
    {
     "name": "stderr",
     "output_type": "stream",
     "text": [
      "/tmp/ipykernel_6152/3432016049.py:2: SettingWithCopyWarning: \n",
      "A value is trying to be set on a copy of a slice from a DataFrame\n",
      "\n",
      "See the caveats in the documentation: https://pandas.pydata.org/pandas-docs/stable/user_guide/indexing.html#returning-a-view-versus-a-copy\n",
      "  df_whse_a.drop(['Warehouse', 'Product_Category'], axis=1, inplace=True)\n"
     ]
    }
   ],
   "source": [
    "# choose a warehouse\n",
    "df_whse_a.drop(['Warehouse', 'Product_Category'], axis=1, inplace=True)"
   ]
  },
  {
   "cell_type": "code",
   "execution_count": 68,
   "id": "a6ecb056-2d1e-4326-b5ed-75512dbd3a85",
   "metadata": {},
   "outputs": [],
   "source": [
    "# filter for freuent product\n",
    "threshold = 1000\n",
    "filtered_data = df_whse_a[(df_whse_a.Year >= 2012) & (df_whse_a.Year < 2017)]\n",
    "frequent_products = filtered_data['Product_Code'].value_counts()[filtered_data['Product_Code'].value_counts() > threshold].index\n",
    "filtered_data = filtered_data[filtered_data.Product_Code.isin(frequent_products)]"
   ]
  },
  {
   "cell_type": "code",
   "execution_count": 69,
   "id": "adaa14d3-0c8c-4f89-b56e-4dfd6c481d1b",
   "metadata": {},
   "outputs": [],
   "source": [
    "# aggregation\n",
    "data_aggregated       = filtered_data[['Product_Code', 'Date', 'Order_Demand']]\n",
    "data_aggregated       = data_aggregated.groupby(['Product_Code', 'Date']).sum().reset_index()\n",
    "\n",
    "# weekly\n",
    "data_pivot            = data_aggregated.pivot(index='Date', columns='Product_Code', values='Order_Demand').fillna(0)\n",
    "data_resampled_weekly = data_pivot.resample('W').sum()\n",
    "\n",
    "# daily\n",
    "daily_index           = pd.date_range(start=data_resampled_weekly.index.min(), end=data_resampled_weekly.index.max(), freq='D')\n",
    "data_resampled_daily  = data_resampled_weekly.reindex(daily_index).ffill() / 7"
   ]
  },
  {
   "cell_type": "code",
   "execution_count": 70,
   "id": "9e3c799f-b1e4-41e0-b7af-987dbadea949",
   "metadata": {},
   "outputs": [],
   "source": [
    "import numpy as np\n",
    "from numpy.fft import fft\n",
    "\n",
    "def spectrogram(audio, win = 7, step=1, normalize=True):\n",
    "    spectrogram = []\n",
    "    hanning = np.hanning(win)\n",
    "    for i in range(win, len(audio), step):\n",
    "        dft = np.abs(fft(audio[i - win: i] * hanning))\n",
    "        if normalize:\n",
    "            mu  = np.mean(dft)\n",
    "            std = np.std(dft) + 1.0\n",
    "            spectrogram.append((dft - mu) / std)\n",
    "        else:\n",
    "            spectrogram.append(dft)        \n",
    "    spectrogram = np.array(spectrogram)[:, :win//2]\n",
    "    return spectrogram\n"
   ]
  },
  {
   "cell_type": "code",
   "execution_count": 71,
   "id": "98d167b0-49aa-4cb4-b10e-f259fe880b09",
   "metadata": {},
   "outputs": [],
   "source": [
    "def create_sequences(data, time_steps=1):\n",
    "    X, y = [], []\n",
    "    for i in range(len(data) - time_steps):\n",
    "        X.append(data[i:(i + time_steps)])\n",
    "        y.append(data[i + time_steps])\n",
    "    return np.array(X), np.array(y)\n",
    "\n",
    "WEEK_IDX = {\n",
    "  'Monday' : 0,\n",
    "  'Tuesday': 1,\n",
    "  'Wednesday': 2,\n",
    "  'Thursday': 3,\n",
    "  'Friday':4 ,\n",
    "  'Saturday': 5,\n",
    "  'Sunday': 6, \n",
    "}\n",
    "def days_of_week(df, time_steps=1): \n",
    "    names = list(df.index.day_name())\n",
    "    names = [WEEK_IDX[name] for name in names]\n",
    "    X = []\n",
    "    for i in range(len(names) - time_steps):\n",
    "        X.append(names[i:(i + time_steps)])\n",
    "    return np.array(X)\n",
    "\n",
    "\n",
    "MONTH_IDX = {\n",
    "    'January': 0,\n",
    "    'February': 1,\n",
    "    'March': 2,\n",
    "    'April': 3,\n",
    "    'May': 4,\n",
    "    'June': 5,\n",
    "    'July': 6,\n",
    "    'August': 7,\n",
    "    'September': 8,\n",
    "    'October': 9,\n",
    "    'November': 10,\n",
    "    'December': 11\n",
    "}\n",
    "def month_of_year(df, time_steps=1): \n",
    "    names = list(df.index.month_name())\n",
    "    names = [MONTH_IDX[name] for name in names]\n",
    "    X = []\n",
    "    for i in range(len(names) - time_steps):\n",
    "        X.append(names[i:(i + time_steps)])\n",
    "    return np.array(X)\n",
    "\n",
    "\n",
    "def spectrogram_features(data, time_steps=1):\n",
    "    t, d = data.shape\n",
    "    spectrograms = []\n",
    "    for i in range(0, d):\n",
    "        spectrograms.append(spectrogram(data[:, i], win=30).T)\n",
    "    stacked = np.stack(spectrograms).T\n",
    "    X = []\n",
    "    for i in range(len(stacked) - time_steps):\n",
    "        X.append(stacked[i:(i + time_steps)])\n",
    "    return np.array(X)"
   ]
  },
  {
   "cell_type": "code",
   "execution_count": 72,
   "id": "7a8484cc-a161-4f38-a567-f01485c0ebfa",
   "metadata": {},
   "outputs": [],
   "source": [
    "scaler = MinMaxScaler()\n",
    "scaled_data = scaler.fit_transform(data_resampled_daily)"
   ]
  },
  {
   "cell_type": "code",
   "execution_count": 73,
   "id": "c335c74e-f14b-4f5a-bf66-4dbc56ad0618",
   "metadata": {},
   "outputs": [],
   "source": [
    "spec = spectrogram_features(scaled_data, time_steps=30)"
   ]
  },
  {
   "cell_type": "code",
   "execution_count": 74,
   "id": "9ad66178-30b9-4bc0-aafb-de0464018f33",
   "metadata": {},
   "outputs": [],
   "source": [
    "month_features = month_of_year(data_resampled_daily, time_steps=30)"
   ]
  },
  {
   "cell_type": "code",
   "execution_count": 75,
   "id": "c4835e53-ed6f-4a1e-9011-08ecee371558",
   "metadata": {},
   "outputs": [],
   "source": [
    "day_features = days_of_week(data_resampled_daily, time_steps=30)"
   ]
  },
  {
   "cell_type": "code",
   "execution_count": 76,
   "id": "6685b909-472e-49d5-be7d-0f302ec45861",
   "metadata": {},
   "outputs": [],
   "source": [
    "time_steps = 30  # e.g., 30 days\n",
    "X, y = create_sequences(scaled_data, time_steps)"
   ]
  },
  {
   "cell_type": "code",
   "execution_count": 77,
   "id": "10a43e95-6960-443c-a4fb-3a57e33433ff",
   "metadata": {},
   "outputs": [
    {
     "data": {
      "text/plain": [
       "((1791, 30, 31), (1791, 31), (1791, 30), (1791, 30), (1761, 30, 15, 31))"
      ]
     },
     "execution_count": 77,
     "metadata": {},
     "output_type": "execute_result"
    }
   ],
   "source": [
    "X.shape, y.shape, month_features.shape, day_features.shape, spec.shape"
   ]
  },
  {
   "cell_type": "code",
   "execution_count": 78,
   "id": "3d7800e0-d271-4fb4-a701-390d430263c5",
   "metadata": {},
   "outputs": [],
   "source": [
    "import pickle as pkl\n",
    "\n",
    "Features = namedtuple('Features', 'seq month day spec lab')\n",
    "\n",
    "with open('features.pkl', 'wb') as f:\n",
    "    pkl.dump(Features(X, month_features, day_features, spec, y), f)"
   ]
  },
  {
   "cell_type": "markdown",
   "id": "32be76b5-c60c-45db-ba6a-2936c33e5134",
   "metadata": {},
   "source": [
    "# Modeling"
   ]
  },
  {
   "cell_type": "code",
   "execution_count": 30,
   "id": "0a7c33e7-293c-4dc0-93bc-7992cb6c67bd",
   "metadata": {},
   "outputs": [],
   "source": [
    "import pickle as pkl\n",
    "import tensorflow as tf\n",
    "import matplotlib.pyplot as plt\n",
    "\n",
    "from tensorflow.keras.callbacks import EarlyStopping\n",
    "from tensorflow.keras.layers import * \n",
    "from tensorflow.keras.models import * \n",
    "from collections import namedtuple\n",
    "from sklearn.model_selection import train_test_split\n",
    "from tensorflow.keras.optimizers import * \n",
    "from tensorflow.keras.metrics import * \n",
    "Features = namedtuple('Features', 'seq month day spec lab')"
   ]
  },
  {
   "cell_type": "code",
   "execution_count": 31,
   "id": "b692a112-5af7-4086-b2c5-9d2001cfdc06",
   "metadata": {},
   "outputs": [],
   "source": [
    "features = pkl.load(open('features.pkl', 'rb'))\n",
    "X_train, X_test, y_train, y_test = train_test_split(features.seq, features.lab, test_size=0.3)"
   ]
  },
  {
   "cell_type": "markdown",
   "id": "1dc451cd-7e70-4bc3-9da4-a7e242584c75",
   "metadata": {},
   "source": [
    "## Base Model"
   ]
  },
  {
   "cell_type": "code",
   "execution_count": 32,
   "id": "6847f12f-8f85-4992-8e3c-e1861bcd6890",
   "metadata": {},
   "outputs": [
    {
     "name": "stdout",
     "output_type": "stream",
     "text": [
      "(1253, 30, 31) (1253, 31)\n"
     ]
    }
   ],
   "source": [
    "print(X_train.shape, y_train.shape)"
   ]
  },
  {
   "cell_type": "code",
   "execution_count": 33,
   "id": "80ad9528-2b87-4bfb-a90b-2e2be4817d71",
   "metadata": {},
   "outputs": [
    {
     "name": "stdout",
     "output_type": "stream",
     "text": [
      "WARNING:tensorflow:Layer lstm_3 will not use cuDNN kernels since it doesn't meet the criteria. It will use a generic GPU kernel as fallback when running on GPU.\n",
      "Model: \"model_2\"\n",
      "_________________________________________________________________\n",
      " Layer (type)                Output Shape              Param #   \n",
      "=================================================================\n",
      " input_25 (InputLayer)       [(None, 30, 31)]          0         \n",
      "                                                                 \n",
      " lstm_3 (LSTM)               (None, 31)                7812      \n",
      "                                                                 \n",
      "=================================================================\n",
      "Total params: 7,812\n",
      "Trainable params: 7,812\n",
      "Non-trainable params: 0\n",
      "_________________________________________________________________\n"
     ]
    }
   ],
   "source": [
    "def predictor():\n",
    "    i = Input((30, 31))\n",
    "    x = LSTM(31, activation='relu')(i)\n",
    "    return Model(inputs=[i], outputs=[x])\n",
    "\n",
    "model = predictor()\n",
    "model.summary()"
   ]
  },
  {
   "cell_type": "code",
   "execution_count": 34,
   "id": "2bc9df06-28f9-42f0-91ee-966b03d6559d",
   "metadata": {
    "scrolled": true,
    "tags": []
   },
   "outputs": [
    {
     "name": "stdout",
     "output_type": "stream",
     "text": [
      "Epoch 1/50\n",
      "40/40 [==============================] - 5s 76ms/step - loss: 0.0306 - root_mean_squared_error: 0.1748 - val_loss: 0.0229 - val_root_mean_squared_error: 0.1515\n",
      "Epoch 2/50\n",
      "40/40 [==============================] - 3s 69ms/step - loss: 0.0211 - root_mean_squared_error: 0.1453 - val_loss: 0.0199 - val_root_mean_squared_error: 0.1409\n",
      "Epoch 3/50\n",
      "40/40 [==============================] - 3s 68ms/step - loss: 0.0190 - root_mean_squared_error: 0.1380 - val_loss: 0.0186 - val_root_mean_squared_error: 0.1364\n",
      "Epoch 4/50\n",
      "40/40 [==============================] - 3s 75ms/step - loss: 0.0181 - root_mean_squared_error: 0.1345 - val_loss: 0.0178 - val_root_mean_squared_error: 0.1333\n",
      "Epoch 5/50\n",
      "40/40 [==============================] - 3s 80ms/step - loss: 0.0176 - root_mean_squared_error: 0.1326 - val_loss: 0.0175 - val_root_mean_squared_error: 0.1322\n",
      "Epoch 6/50\n",
      "40/40 [==============================] - 3s 75ms/step - loss: 0.0173 - root_mean_squared_error: 0.1315 - val_loss: 0.0173 - val_root_mean_squared_error: 0.1314\n",
      "Epoch 7/50\n",
      "40/40 [==============================] - 3s 75ms/step - loss: 0.0171 - root_mean_squared_error: 0.1309 - val_loss: 0.0171 - val_root_mean_squared_error: 0.1308\n",
      "Epoch 8/50\n",
      "40/40 [==============================] - 3s 75ms/step - loss: 0.0170 - root_mean_squared_error: 0.1304 - val_loss: 0.0170 - val_root_mean_squared_error: 0.1304\n",
      "Epoch 9/50\n",
      "40/40 [==============================] - 3s 79ms/step - loss: 0.0169 - root_mean_squared_error: 0.1299 - val_loss: 0.0170 - val_root_mean_squared_error: 0.1305\n",
      "Epoch 10/50\n",
      "40/40 [==============================] - 3s 74ms/step - loss: 0.0168 - root_mean_squared_error: 0.1298 - val_loss: 0.0171 - val_root_mean_squared_error: 0.1306\n",
      "Epoch 11/50\n",
      "40/40 [==============================] - 3s 75ms/step - loss: 0.0168 - root_mean_squared_error: 0.1297 - val_loss: 0.0175 - val_root_mean_squared_error: 0.1322\n",
      "Epoch 12/50\n",
      "40/40 [==============================] - 3s 67ms/step - loss: 0.0172 - root_mean_squared_error: 0.1311 - val_loss: 0.0172 - val_root_mean_squared_error: 0.1312\n",
      "Epoch 13/50\n",
      "40/40 [==============================] - 3s 71ms/step - loss: 0.0168 - root_mean_squared_error: 0.1297 - val_loss: 0.0171 - val_root_mean_squared_error: 0.1308\n"
     ]
    }
   ],
   "source": [
    "early_stopping = EarlyStopping(monitor='val_loss', patience=5, restore_best_weights=True)\n",
    "opt = Adam(learning_rate=0.02)\n",
    "model.compile(loss='mean_squared_error', optimizer=opt, metrics=[RootMeanSquaredError()])\n",
    "hist = model.fit(X_train, y_train, batch_size=32, epochs=50, validation_data=(X_test, y_test), callbacks=[early_stopping])"
   ]
  },
  {
   "cell_type": "code",
   "execution_count": 35,
   "id": "c2938d83-6f4f-4a5c-bcf0-e3e219b00f17",
   "metadata": {},
   "outputs": [
    {
     "data": {
      "image/png": "[encoded data removed]",
      "text/plain": [
       "<Figure size 1200x600 with 1 Axes>"
      ]
     },
     "metadata": {},
     "output_type": "display_data"
    }
   ],
   "source": [
    "plt.figure(figsize=(12, 6))\n",
    "plt.plot(hist.history['root_mean_squared_error'], label='Train rmse')\n",
    "plt.plot(hist.history['val_root_mean_squared_error'], label='Validation rmse')\n",
    "plt.title('Model Loss')\n",
    "plt.xlabel('Epochs')\n",
    "plt.ylabel('Loss')\n",
    "plt.legend()\n",
    "\n",
    "plt.show()"
   ]
  },
  {
   "cell_type": "code",
   "execution_count": 36,
   "id": "ce42d545-e0a1-4356-88cf-4593eec138e8",
   "metadata": {},
   "outputs": [
    {
     "data": {
      "text/plain": [
       "((1791, 30), (1791, 30))"
      ]
     },
     "execution_count": 36,
     "metadata": {},
     "output_type": "execute_result"
    }
   ],
   "source": [
    "features.day.shape, features.month.shape"
   ]
  },
  {
   "cell_type": "markdown",
   "id": "54025a14-fe3b-4a96-a23e-7956b266ab86",
   "metadata": {},
   "source": [
    "## Include Day of Week / Month of Year\n",
    "\n",
    "### Learned Embedding"
   ]
  },
  {
   "cell_type": "code",
   "execution_count": 37,
   "id": "954a9a1e-1395-465f-af0b-1a364fdc0470",
   "metadata": {},
   "outputs": [
    {
     "name": "stdout",
     "output_type": "stream",
     "text": [
      "WARNING:tensorflow:Layer lstm_4 will not use cuDNN kernels since it doesn't meet the criteria. It will use a generic GPU kernel as fallback when running on GPU.\n",
      "Model: \"model_3\"\n",
      "__________________________________________________________________________________________________\n",
      " Layer (type)                   Output Shape         Param #     Connected to                     \n",
      "==================================================================================================\n",
      " input_27 (InputLayer)          [(None, 30)]         0           []                               \n",
      "                                                                                                  \n",
      " input_28 (InputLayer)          [(None, 30)]         0           []                               \n",
      "                                                                                                  \n",
      " input_26 (InputLayer)          [(None, 30, 31)]     0           []                               \n",
      "                                                                                                  \n",
      " embedding (Embedding)          (None, 30, 12)       144         ['input_27[0][0]']               \n",
      "                                                                                                  \n",
      " embedding_1 (Embedding)        (None, 30, 7)        49          ['input_28[0][0]']               \n",
      "                                                                                                  \n",
      " concatenate_6 (Concatenate)    (None, 30, 50)       0           ['input_26[0][0]',               \n",
      "                                                                  'embedding[0][0]',              \n",
      "                                                                  'embedding_1[0][0]']            \n",
      "                                                                                                  \n",
      " lstm_4 (LSTM)                  (None, 31)           10168       ['concatenate_6[0][0]']          \n",
      "                                                                                                  \n",
      "==================================================================================================\n",
      "Total params: 10,361\n",
      "Trainable params: 10,361\n",
      "Non-trainable params: 0\n",
      "__________________________________________________________________________________________________\n"
     ]
    }
   ],
   "source": [
    "def predictor_v2():\n",
    "    i_seq = Input((30, 31))\n",
    "    i_month = Input((30))\n",
    "    i_day = Input((30))\n",
    "    \n",
    "    e_month = Embedding(12, 12)(i_month)\n",
    "    e_day = Embedding(7, 7)(i_day) \n",
    "    \n",
    "    i = Concatenate(axis = 2)([i_seq, e_month, e_day])\n",
    "    \n",
    "    \n",
    "    x = LSTM(31, activation='relu')(i)\n",
    "    return Model(inputs=[i_seq, i_day, i_month], outputs=[x])\n",
    "\n",
    "model = predictor_v2()\n",
    "model.summary()"
   ]
  },
  {
   "cell_type": "code",
   "execution_count": 38,
   "id": "2a3b6cb0-0454-434c-b78c-7018b7f095d6",
   "metadata": {},
   "outputs": [],
   "source": [
    "X_train, X_test, y_train, y_test, day_train, day_test, month_train, month_test =\\\n",
    "train_test_split(features.seq, features.lab, features.day, features.month, test_size=0.3)"
   ]
  },
  {
   "cell_type": "code",
   "execution_count": 39,
   "id": "ab083420-6106-4340-a56d-88c66b220c29",
   "metadata": {
    "scrolled": true,
    "tags": []
   },
   "outputs": [
    {
     "name": "stdout",
     "output_type": "stream",
     "text": [
      "Epoch 1/50\n",
      "40/40 [==============================] - 5s 84ms/step - loss: 0.0311 - root_mean_squared_error: 0.1765 - val_loss: 0.0246 - val_root_mean_squared_error: 0.1570\n",
      "Epoch 2/50\n",
      "40/40 [==============================] - 3s 70ms/step - loss: 0.0210 - root_mean_squared_error: 0.1448 - val_loss: 0.0198 - val_root_mean_squared_error: 0.1406\n",
      "Epoch 3/50\n",
      "40/40 [==============================] - 3s 69ms/step - loss: 0.0179 - root_mean_squared_error: 0.1339 - val_loss: 0.0178 - val_root_mean_squared_error: 0.1335\n",
      "Epoch 4/50\n",
      "40/40 [==============================] - 3s 74ms/step - loss: 0.0167 - root_mean_squared_error: 0.1293 - val_loss: 0.0166 - val_root_mean_squared_error: 0.1288\n",
      "Epoch 5/50\n",
      "40/40 [==============================] - 3s 72ms/step - loss: 0.0158 - root_mean_squared_error: 0.1256 - val_loss: 0.0157 - val_root_mean_squared_error: 0.1252\n",
      "Epoch 6/50\n",
      "40/40 [==============================] - 3s 75ms/step - loss: 0.0153 - root_mean_squared_error: 0.1237 - val_loss: 0.0153 - val_root_mean_squared_error: 0.1236\n",
      "Epoch 7/50\n",
      "40/40 [==============================] - 3s 76ms/step - loss: 0.0148 - root_mean_squared_error: 0.1215 - val_loss: 0.0151 - val_root_mean_squared_error: 0.1228\n",
      "Epoch 8/50\n",
      "40/40 [==============================] - 3s 78ms/step - loss: 0.0146 - root_mean_squared_error: 0.1207 - val_loss: 0.0149 - val_root_mean_squared_error: 0.1220\n",
      "Epoch 9/50\n",
      "40/40 [==============================] - 3s 73ms/step - loss: 0.0144 - root_mean_squared_error: 0.1200 - val_loss: 0.0149 - val_root_mean_squared_error: 0.1221\n",
      "Epoch 10/50\n",
      "40/40 [==============================] - 3s 77ms/step - loss: 0.0143 - root_mean_squared_error: 0.1194 - val_loss: 0.0148 - val_root_mean_squared_error: 0.1215\n",
      "Epoch 11/50\n",
      "40/40 [==============================] - 4s 87ms/step - loss: 0.0142 - root_mean_squared_error: 0.1190 - val_loss: 0.0147 - val_root_mean_squared_error: 0.1214\n",
      "Epoch 12/50\n",
      "40/40 [==============================] - 4s 87ms/step - loss: 0.0130 - root_mean_squared_error: 0.1140 - val_loss: 0.0133 - val_root_mean_squared_error: 0.1152\n",
      "Epoch 13/50\n",
      "40/40 [==============================] - 3s 84ms/step - loss: 0.0124 - root_mean_squared_error: 0.1113 - val_loss: 0.0130 - val_root_mean_squared_error: 0.1140\n",
      "Epoch 14/50\n",
      "40/40 [==============================] - 3s 79ms/step - loss: 0.0122 - root_mean_squared_error: 0.1107 - val_loss: 0.0130 - val_root_mean_squared_error: 0.1140\n",
      "Epoch 15/50\n",
      "40/40 [==============================] - 3s 75ms/step - loss: 0.0122 - root_mean_squared_error: 0.1104 - val_loss: 0.0131 - val_root_mean_squared_error: 0.1145\n",
      "Epoch 16/50\n",
      "40/40 [==============================] - 3s 71ms/step - loss: 0.0121 - root_mean_squared_error: 0.1099 - val_loss: 0.0129 - val_root_mean_squared_error: 0.1136\n",
      "Epoch 17/50\n",
      "40/40 [==============================] - 3s 74ms/step - loss: 0.0120 - root_mean_squared_error: 0.1097 - val_loss: 0.0129 - val_root_mean_squared_error: 0.1137\n",
      "Epoch 18/50\n",
      "40/40 [==============================] - 3s 82ms/step - loss: 0.0120 - root_mean_squared_error: 0.1096 - val_loss: 0.0133 - val_root_mean_squared_error: 0.1155\n",
      "Epoch 19/50\n",
      "40/40 [==============================] - 3s 77ms/step - loss: 0.0121 - root_mean_squared_error: 0.1098 - val_loss: 0.0130 - val_root_mean_squared_error: 0.1140\n",
      "Epoch 20/50\n",
      "40/40 [==============================] - 3s 78ms/step - loss: 0.0119 - root_mean_squared_error: 0.1093 - val_loss: 0.0130 - val_root_mean_squared_error: 0.1139\n",
      "Epoch 21/50\n",
      "40/40 [==============================] - 3s 77ms/step - loss: 0.0119 - root_mean_squared_error: 0.1093 - val_loss: 0.0131 - val_root_mean_squared_error: 0.1143\n"
     ]
    }
   ],
   "source": [
    "early_stopping = EarlyStopping(monitor='val_loss', patience=5, restore_best_weights=True)\n",
    "opt = Adam(learning_rate=0.02)\n",
    "model.compile(loss='mean_squared_error', optimizer=opt, metrics=[RootMeanSquaredError()])\n",
    "hist = model.fit([X_train, day_train, month_train], y_train, batch_size=32, epochs=50, validation_data=([X_test, day_test, month_test], y_test), callbacks=[early_stopping])"
   ]
  },
  {
   "cell_type": "code",
   "execution_count": 40,
   "id": "7fb8d060-2151-4e65-85a6-7b17b7c59262",
   "metadata": {},
   "outputs": [
    {
     "data": {
      "image/png": "[encoded data removed]",
      "text/plain": [
       "<Figure size 1200x600 with 1 Axes>"
      ]
     },
     "metadata": {},
     "output_type": "display_data"
    }
   ],
   "source": [
    "plt.figure(figsize=(12, 6))\n",
    "plt.plot(hist.history['root_mean_squared_error'], label='Train rmse')\n",
    "plt.plot(hist.history['val_root_mean_squared_error'], label='Validation rmse')\n",
    "plt.title('Model Loss')\n",
    "plt.xlabel('Epochs')\n",
    "plt.ylabel('Loss')\n",
    "plt.legend()\n",
    "\n",
    "plt.show()"
   ]
  },
  {
   "cell_type": "markdown",
   "id": "7afe3147-6746-4226-83c7-3837cfefd255",
   "metadata": {},
   "source": [
    "### LSTM Stack"
   ]
  },
  {
   "cell_type": "code",
   "execution_count": 41,
   "id": "9bbdff47-8f8e-4646-baef-34bf54e625c9",
   "metadata": {},
   "outputs": [
    {
     "name": "stdout",
     "output_type": "stream",
     "text": [
      "WARNING:tensorflow:Layer lstm_6 will not use cuDNN kernels since it doesn't meet the criteria. It will use a generic GPU kernel as fallback when running on GPU.\n",
      "Model: \"model_4\"\n",
      "__________________________________________________________________________________________________\n",
      " Layer (type)                   Output Shape         Param #     Connected to                     \n",
      "==================================================================================================\n",
      " input_30 (InputLayer)          [(None, 30)]         0           []                               \n",
      "                                                                                                  \n",
      " input_31 (InputLayer)          [(None, 30)]         0           []                               \n",
      "                                                                                                  \n",
      " input_29 (InputLayer)          [(None, 30, 31)]     0           []                               \n",
      "                                                                                                  \n",
      " embedding_2 (Embedding)        (None, 30, 12)       144         ['input_30[0][0]']               \n",
      "                                                                                                  \n",
      " embedding_3 (Embedding)        (None, 30, 7)        49          ['input_31[0][0]']               \n",
      "                                                                                                  \n",
      " concatenate_7 (Concatenate)    (None, 30, 50)       0           ['input_29[0][0]',               \n",
      "                                                                  'embedding_2[0][0]',            \n",
      "                                                                  'embedding_3[0][0]']            \n",
      "                                                                                                  \n",
      " bidirectional_1 (Bidirectional  (None, 30, 256)     183296      ['concatenate_7[0][0]']          \n",
      " )                                                                                                \n",
      "                                                                                                  \n",
      " lstm_6 (LSTM)                  (None, 31)           35712       ['bidirectional_1[0][0]']        \n",
      "                                                                                                  \n",
      "==================================================================================================\n",
      "Total params: 219,201\n",
      "Trainable params: 219,201\n",
      "Non-trainable params: 0\n",
      "__________________________________________________________________________________________________\n"
     ]
    }
   ],
   "source": [
    "def predictor_v2_2():\n",
    "    i_seq = Input((30, 31))\n",
    "    i_month = Input((30))\n",
    "    i_day = Input((30))\n",
    "    \n",
    "    e_month = Embedding(12, 12)(i_month)\n",
    "    e_day = Embedding(7, 7)(i_day) \n",
    "    \n",
    "    i = Concatenate(axis = 2)([i_seq, e_month, e_day])\n",
    "    \n",
    "    \n",
    "    x = Bidirectional(LSTM(128, return_sequences=True))(i)\n",
    "    x = LSTM(31, activation='relu')(x)\n",
    "    return Model(inputs=[i_seq, i_day, i_month], outputs=[x])\n",
    "\n",
    "\n",
    "model = predictor_v2_2()\n",
    "model.summary()"
   ]
  },
  {
   "cell_type": "code",
   "execution_count": 42,
   "id": "3d2ec721-4bec-4585-b427-41e3155cfe06",
   "metadata": {},
   "outputs": [],
   "source": [
    "X_train, X_test, y_train, y_test, day_train, day_test, month_train, month_test =\\\n",
    "train_test_split(features.seq, features.lab, features.day, features.month, test_size=0.3)"
   ]
  },
  {
   "cell_type": "code",
   "execution_count": 43,
   "id": "6c5a0a0c-00cc-4bf9-a4be-fa7183a41938",
   "metadata": {
    "scrolled": true,
    "tags": []
   },
   "outputs": [
    {
     "name": "stdout",
     "output_type": "stream",
     "text": [
      "Epoch 1/50\n",
      "40/40 [==============================] - 12s 124ms/step - loss: 81374056.0000 - root_mean_squared_error: 9020.7568 - val_loss: 8.0828 - val_root_mean_squared_error: 2.8430\n",
      "Epoch 2/50\n",
      "40/40 [==============================] - 3s 83ms/step - loss: 8.2291 - root_mean_squared_error: 2.8686 - val_loss: 0.2520 - val_root_mean_squared_error: 0.5020\n",
      "Epoch 3/50\n",
      "40/40 [==============================] - 3s 83ms/step - loss: 0.2659 - root_mean_squared_error: 0.5157 - val_loss: 0.2460 - val_root_mean_squared_error: 0.4960\n",
      "Epoch 4/50\n",
      "40/40 [==============================] - 3s 84ms/step - loss: 0.2575 - root_mean_squared_error: 0.5075 - val_loss: 0.2437 - val_root_mean_squared_error: 0.4937\n",
      "Epoch 5/50\n",
      "40/40 [==============================] - 3s 82ms/step - loss: 0.2550 - root_mean_squared_error: 0.5050 - val_loss: 0.2413 - val_root_mean_squared_error: 0.4912\n",
      "Epoch 6/50\n",
      "40/40 [==============================] - 3s 83ms/step - loss: 0.2524 - root_mean_squared_error: 0.5024 - val_loss: 0.2387 - val_root_mean_squared_error: 0.4885\n",
      "Epoch 7/50\n",
      "40/40 [==============================] - 4s 96ms/step - loss: 0.2496 - root_mean_squared_error: 0.4996 - val_loss: 0.2361 - val_root_mean_squared_error: 0.4859\n",
      "Epoch 8/50\n",
      "40/40 [==============================] - 4s 94ms/step - loss: 0.2467 - root_mean_squared_error: 0.4967 - val_loss: 0.2333 - val_root_mean_squared_error: 0.4830\n",
      "Epoch 9/50\n",
      "40/40 [==============================] - 3s 76ms/step - loss: 0.2437 - root_mean_squared_error: 0.4937 - val_loss: 0.2305 - val_root_mean_squared_error: 0.4801\n",
      "Epoch 10/50\n",
      "40/40 [==============================] - 3s 81ms/step - loss: 0.2408 - root_mean_squared_error: 0.4907 - val_loss: 0.2277 - val_root_mean_squared_error: 0.4772\n",
      "Epoch 11/50\n",
      "40/40 [==============================] - 3s 78ms/step - loss: 0.2377 - root_mean_squared_error: 0.4876 - val_loss: 0.2250 - val_root_mean_squared_error: 0.4743\n",
      "Epoch 12/50\n",
      "40/40 [==============================] - 3s 80ms/step - loss: 0.2347 - root_mean_squared_error: 0.4845 - val_loss: 0.2221 - val_root_mean_squared_error: 0.4713\n",
      "Epoch 13/50\n",
      "40/40 [==============================] - 3s 77ms/step - loss: 0.2316 - root_mean_squared_error: 0.4813 - val_loss: 0.2193 - val_root_mean_squared_error: 0.4683\n",
      "Epoch 14/50\n",
      "40/40 [==============================] - 3s 79ms/step - loss: 0.2286 - root_mean_squared_error: 0.4781 - val_loss: 0.2165 - val_root_mean_squared_error: 0.4653\n",
      "Epoch 15/50\n",
      "40/40 [==============================] - 3s 78ms/step - loss: 0.2255 - root_mean_squared_error: 0.4749 - val_loss: 0.2137 - val_root_mean_squared_error: 0.4623\n",
      "Epoch 16/50\n",
      "40/40 [==============================] - 3s 82ms/step - loss: 0.2224 - root_mean_squared_error: 0.4716 - val_loss: 0.2109 - val_root_mean_squared_error: 0.4592\n",
      "Epoch 17/50\n",
      "40/40 [==============================] - 3s 76ms/step - loss: 0.2194 - root_mean_squared_error: 0.4684 - val_loss: 0.2081 - val_root_mean_squared_error: 0.4562\n",
      "Epoch 18/50\n",
      "40/40 [==============================] - 3s 78ms/step - loss: 0.2163 - root_mean_squared_error: 0.4651 - val_loss: 0.2053 - val_root_mean_squared_error: 0.4531\n",
      "Epoch 19/50\n",
      "40/40 [==============================] - 3s 81ms/step - loss: 0.2133 - root_mean_squared_error: 0.4618 - val_loss: 0.2025 - val_root_mean_squared_error: 0.4500\n",
      "Epoch 20/50\n",
      "40/40 [==============================] - 3s 85ms/step - loss: 0.2102 - root_mean_squared_error: 0.4585 - val_loss: 0.1997 - val_root_mean_squared_error: 0.4469\n",
      "Epoch 21/50\n",
      "40/40 [==============================] - 3s 78ms/step - loss: 0.2073 - root_mean_squared_error: 0.4553 - val_loss: 0.1971 - val_root_mean_squared_error: 0.4439\n",
      "Epoch 22/50\n",
      "40/40 [==============================] - 3s 84ms/step - loss: 0.2044 - root_mean_squared_error: 0.4521 - val_loss: 0.1943 - val_root_mean_squared_error: 0.4408\n",
      "Epoch 23/50\n",
      "40/40 [==============================] - 3s 84ms/step - loss: 0.2015 - root_mean_squared_error: 0.4488 - val_loss: 0.1917 - val_root_mean_squared_error: 0.4378\n",
      "Epoch 24/50\n",
      "40/40 [==============================] - 4s 94ms/step - loss: 0.1986 - root_mean_squared_error: 0.4456 - val_loss: 0.1891 - val_root_mean_squared_error: 0.4348\n",
      "Epoch 25/50\n",
      "40/40 [==============================] - 3s 79ms/step - loss: 0.1958 - root_mean_squared_error: 0.4425 - val_loss: 0.1865 - val_root_mean_squared_error: 0.4319\n",
      "Epoch 26/50\n",
      "40/40 [==============================] - 3s 81ms/step - loss: 0.1930 - root_mean_squared_error: 0.4394 - val_loss: 0.1840 - val_root_mean_squared_error: 0.4290\n",
      "Epoch 27/50\n",
      "40/40 [==============================] - 3s 77ms/step - loss: 0.1904 - root_mean_squared_error: 0.4363 - val_loss: 0.1815 - val_root_mean_squared_error: 0.4260\n",
      "Epoch 28/50\n",
      "40/40 [==============================] - 4s 93ms/step - loss: 0.1877 - root_mean_squared_error: 0.4332 - val_loss: 0.1790 - val_root_mean_squared_error: 0.4231\n",
      "Epoch 29/50\n",
      "40/40 [==============================] - 3s 80ms/step - loss: 0.1851 - root_mean_squared_error: 0.4302 - val_loss: 0.1766 - val_root_mean_squared_error: 0.4203\n",
      "Epoch 30/50\n",
      "40/40 [==============================] - 3s 80ms/step - loss: 0.1825 - root_mean_squared_error: 0.4272 - val_loss: 0.1742 - val_root_mean_squared_error: 0.4174\n",
      "Epoch 31/50\n",
      "40/40 [==============================] - 3s 85ms/step - loss: 0.1799 - root_mean_squared_error: 0.4242 - val_loss: 0.1719 - val_root_mean_squared_error: 0.4147\n",
      "Epoch 32/50\n",
      "40/40 [==============================] - 3s 86ms/step - loss: 0.1775 - root_mean_squared_error: 0.4213 - val_loss: 0.1696 - val_root_mean_squared_error: 0.4118\n",
      "Epoch 33/50\n",
      "40/40 [==============================] - 3s 84ms/step - loss: 0.1750 - root_mean_squared_error: 0.4183 - val_loss: 0.1674 - val_root_mean_squared_error: 0.4091\n",
      "Epoch 34/50\n",
      "40/40 [==============================] - 3s 87ms/step - loss: 0.1726 - root_mean_squared_error: 0.4155 - val_loss: 0.1651 - val_root_mean_squared_error: 0.4064\n",
      "Epoch 35/50\n",
      "40/40 [==============================] - 3s 84ms/step - loss: 0.1703 - root_mean_squared_error: 0.4126 - val_loss: 0.1630 - val_root_mean_squared_error: 0.4037\n",
      "Epoch 36/50\n",
      "40/40 [==============================] - 3s 80ms/step - loss: 0.1679 - root_mean_squared_error: 0.4098 - val_loss: 0.1608 - val_root_mean_squared_error: 0.4010\n",
      "Epoch 37/50\n",
      "40/40 [==============================] - 3s 84ms/step - loss: 0.1657 - root_mean_squared_error: 0.4070 - val_loss: 0.1587 - val_root_mean_squared_error: 0.3984\n",
      "Epoch 38/50\n",
      "40/40 [==============================] - 3s 76ms/step - loss: 0.1634 - root_mean_squared_error: 0.4043 - val_loss: 0.1567 - val_root_mean_squared_error: 0.3958\n",
      "Epoch 39/50\n",
      "40/40 [==============================] - 3s 79ms/step - loss: 0.1612 - root_mean_squared_error: 0.4015 - val_loss: 0.1546 - val_root_mean_squared_error: 0.3932\n",
      "Epoch 40/50\n",
      "40/40 [==============================] - 3s 80ms/step - loss: 0.1591 - root_mean_squared_error: 0.3988 - val_loss: 0.1526 - val_root_mean_squared_error: 0.3906\n",
      "Epoch 41/50\n",
      "40/40 [==============================] - 3s 80ms/step - loss: 0.1570 - root_mean_squared_error: 0.3962 - val_loss: 0.1506 - val_root_mean_squared_error: 0.3881\n",
      "Epoch 42/50\n",
      "40/40 [==============================] - 3s 77ms/step - loss: 0.1549 - root_mean_squared_error: 0.3935 - val_loss: 0.1487 - val_root_mean_squared_error: 0.3856\n",
      "Epoch 43/50\n",
      "40/40 [==============================] - 3s 80ms/step - loss: 0.1529 - root_mean_squared_error: 0.3910 - val_loss: 0.1468 - val_root_mean_squared_error: 0.3831\n",
      "Epoch 44/50\n",
      "40/40 [==============================] - 3s 80ms/step - loss: 0.1509 - root_mean_squared_error: 0.3884 - val_loss: 0.1449 - val_root_mean_squared_error: 0.3807\n",
      "Epoch 45/50\n",
      "40/40 [==============================] - 3s 83ms/step - loss: 0.1489 - root_mean_squared_error: 0.3859 - val_loss: 0.1431 - val_root_mean_squared_error: 0.3783\n",
      "Epoch 46/50\n",
      "40/40 [==============================] - 3s 76ms/step - loss: 0.1470 - root_mean_squared_error: 0.3834 - val_loss: 0.1413 - val_root_mean_squared_error: 0.3759\n",
      "Epoch 47/50\n",
      "40/40 [==============================] - 3s 78ms/step - loss: 0.1451 - root_mean_squared_error: 0.3809 - val_loss: 0.1396 - val_root_mean_squared_error: 0.3736\n",
      "Epoch 48/50\n",
      "40/40 [==============================] - 3s 81ms/step - loss: 0.1433 - root_mean_squared_error: 0.3785 - val_loss: 0.1379 - val_root_mean_squared_error: 0.3713\n",
      "Epoch 49/50\n",
      "40/40 [==============================] - 3s 80ms/step - loss: 0.1415 - root_mean_squared_error: 0.3762 - val_loss: 0.1362 - val_root_mean_squared_error: 0.3691\n",
      "Epoch 50/50\n",
      "40/40 [==============================] - 3s 78ms/step - loss: 0.1398 - root_mean_squared_error: 0.3739 - val_loss: 0.1346 - val_root_mean_squared_error: 0.3668\n"
     ]
    }
   ],
   "source": [
    "early_stopping = EarlyStopping(monitor='val_loss', patience=5, restore_best_weights=True)\n",
    "opt = Adam(learning_rate=0.02)\n",
    "model.compile(loss='mean_squared_error', optimizer=opt, metrics=[RootMeanSquaredError()])\n",
    "hist = model.fit([X_train, day_train, month_train], y_train, batch_size=32, epochs=50, validation_data=([X_test, day_test, month_test], y_test), callbacks=[early_stopping])"
   ]
  },
  {
   "cell_type": "code",
   "execution_count": 47,
   "id": "f7e028dc-8c3c-4dcc-8234-d8b004481905",
   "metadata": {},
   "outputs": [
    {
     "data": {
      "image/png": "[encoded data removed]",
      "text/plain": [
       "<Figure size 1200x600 with 1 Axes>"
      ]
     },
     "metadata": {},
     "output_type": "display_data"
    }
   ],
   "source": [
    "plt.figure(figsize=(12, 6))\n",
    "plt.plot(hist.history['root_mean_squared_error'], label='Train rmse')\n",
    "plt.plot(hist.history['val_root_mean_squared_error'], label='Validation rmse')\n",
    "plt.title('Model Loss')\n",
    "plt.xlabel('Epochs')\n",
    "plt.ylabel('Loss')\n",
    "plt.legend()\n",
    "\n",
    "plt.show()"
   ]
  },
  {
   "cell_type": "markdown",
   "id": "fafde510-0a77-489a-9275-f5c4a97b1406",
   "metadata": {},
   "source": [
    "### Encoding"
   ]
  },
  {
   "cell_type": "code",
   "execution_count": 48,
   "id": "5f9ac1b5-a931-40d8-8914-c90b621163a2",
   "metadata": {},
   "outputs": [
    {
     "name": "stdout",
     "output_type": "stream",
     "text": [
      "(None, 30, 12)\n",
      "WARNING:tensorflow:Layer lstm_7 will not use cuDNN kernels since it doesn't meet the criteria. It will use a generic GPU kernel as fallback when running on GPU.\n",
      "Model: \"model_5\"\n",
      "__________________________________________________________________________________________________\n",
      " Layer (type)                   Output Shape         Param #     Connected to                     \n",
      "==================================================================================================\n",
      " input_33 (InputLayer)          [(None, 30, 1)]      0           []                               \n",
      "                                                                                                  \n",
      " input_34 (InputLayer)          [(None, 30, 1)]      0           []                               \n",
      "                                                                                                  \n",
      " input_32 (InputLayer)          [(None, 30, 31)]     0           []                               \n",
      "                                                                                                  \n",
      " time_distributed_5 (TimeDistri  (None, 30, 12)      0           ['input_33[0][0]']               \n",
      " buted)                                                                                           \n",
      "                                                                                                  \n",
      " time_distributed_6 (TimeDistri  (None, 30, 7)       0           ['input_34[0][0]']               \n",
      " buted)                                                                                           \n",
      "                                                                                                  \n",
      " concatenate_8 (Concatenate)    (None, 30, 50)       0           ['input_32[0][0]',               \n",
      "                                                                  'time_distributed_5[0][0]',     \n",
      "                                                                  'time_distributed_6[0][0]']     \n",
      "                                                                                                  \n",
      " lstm_7 (LSTM)                  (None, 31)           10168       ['concatenate_8[0][0]']          \n",
      "                                                                                                  \n",
      "==================================================================================================\n",
      "Total params: 10,168\n",
      "Trainable params: 10,168\n",
      "Non-trainable params: 0\n",
      "__________________________________________________________________________________________________\n"
     ]
    }
   ],
   "source": [
    "def predictor_v2_3():\n",
    "    i_seq = Input((30, 31))\n",
    "    i_month = Input((30, 1))\n",
    "    i_day = Input((30, 1))\n",
    "    \n",
    "    e_month = TimeDistributed(CategoryEncoding(num_tokens=12))(i_month)\n",
    "    e_day = TimeDistributed(CategoryEncoding(num_tokens=7))(i_day) \n",
    "    print(e_month.shape)\n",
    "    i = Concatenate(axis = 2)([i_seq, e_month, e_day])\n",
    "    \n",
    "    x = LSTM(31, activation='relu')(i)\n",
    "    return Model(inputs=[i_seq, i_day, i_month], outputs=[x])\n",
    "\n",
    "\n",
    "model = predictor_v2_3()\n",
    "model.summary()"
   ]
  },
  {
   "cell_type": "code",
   "execution_count": 49,
   "id": "372a1758-9d6e-42eb-a9fd-128edce9433e",
   "metadata": {},
   "outputs": [],
   "source": [
    "X_train, X_test, y_train, y_test, day_train, day_test, month_train, month_test =\\\n",
    "train_test_split(features.seq, features.lab, features.day, features.month, test_size=0.3)"
   ]
  },
  {
   "cell_type": "code",
   "execution_count": 50,
   "id": "d07cff81-6f92-446b-8a5a-41cbcd6332bb",
   "metadata": {
    "scrolled": true,
    "tags": []
   },
   "outputs": [
    {
     "name": "stdout",
     "output_type": "stream",
     "text": [
      "Epoch 1/50\n",
      "40/40 [==============================] - 5s 73ms/step - loss: 0.0543 - root_mean_squared_error: 0.2329 - val_loss: 0.0498 - val_root_mean_squared_error: 0.2232\n",
      "Epoch 2/50\n",
      "40/40 [==============================] - 2s 62ms/step - loss: 0.0466 - root_mean_squared_error: 0.2159 - val_loss: 0.0492 - val_root_mean_squared_error: 0.2219\n",
      "Epoch 3/50\n",
      "40/40 [==============================] - 2s 62ms/step - loss: 0.0462 - root_mean_squared_error: 0.2150 - val_loss: 0.0488 - val_root_mean_squared_error: 0.2208\n",
      "Epoch 4/50\n",
      "40/40 [==============================] - 3s 62ms/step - loss: 0.0458 - root_mean_squared_error: 0.2140 - val_loss: 0.0486 - val_root_mean_squared_error: 0.2204\n",
      "Epoch 5/50\n",
      "40/40 [==============================] - 2s 58ms/step - loss: 0.0456 - root_mean_squared_error: 0.2136 - val_loss: 0.0484 - val_root_mean_squared_error: 0.2200\n",
      "Epoch 6/50\n",
      "40/40 [==============================] - 2s 60ms/step - loss: 0.0455 - root_mean_squared_error: 0.2133 - val_loss: 0.0483 - val_root_mean_squared_error: 0.2199\n",
      "Epoch 7/50\n",
      "40/40 [==============================] - 2s 57ms/step - loss: 0.0454 - root_mean_squared_error: 0.2132 - val_loss: 0.0483 - val_root_mean_squared_error: 0.2197\n",
      "Epoch 8/50\n",
      "40/40 [==============================] - 2s 62ms/step - loss: 0.0454 - root_mean_squared_error: 0.2130 - val_loss: 0.0482 - val_root_mean_squared_error: 0.2196\n",
      "Epoch 9/50\n",
      "40/40 [==============================] - 2s 63ms/step - loss: 0.0453 - root_mean_squared_error: 0.2127 - val_loss: 0.0481 - val_root_mean_squared_error: 0.2193\n",
      "Epoch 10/50\n",
      "40/40 [==============================] - 3s 63ms/step - loss: 0.0451 - root_mean_squared_error: 0.2123 - val_loss: 0.0481 - val_root_mean_squared_error: 0.2193\n",
      "Epoch 11/50\n",
      "40/40 [==============================] - 3s 64ms/step - loss: 0.0451 - root_mean_squared_error: 0.2123 - val_loss: 0.0480 - val_root_mean_squared_error: 0.2191\n",
      "Epoch 12/50\n",
      "40/40 [==============================] - 3s 66ms/step - loss: 0.0450 - root_mean_squared_error: 0.2121 - val_loss: 0.0480 - val_root_mean_squared_error: 0.2191\n",
      "Epoch 13/50\n",
      "40/40 [==============================] - 3s 67ms/step - loss: 0.0449 - root_mean_squared_error: 0.2120 - val_loss: 0.0480 - val_root_mean_squared_error: 0.2190\n",
      "Epoch 14/50\n",
      "40/40 [==============================] - 2s 60ms/step - loss: 0.0449 - root_mean_squared_error: 0.2119 - val_loss: 0.0479 - val_root_mean_squared_error: 0.2190\n",
      "Epoch 15/50\n",
      "40/40 [==============================] - 3s 63ms/step - loss: 0.0449 - root_mean_squared_error: 0.2118 - val_loss: 0.0479 - val_root_mean_squared_error: 0.2189\n",
      "Epoch 16/50\n",
      "40/40 [==============================] - 2s 62ms/step - loss: 0.0448 - root_mean_squared_error: 0.2117 - val_loss: 0.0479 - val_root_mean_squared_error: 0.2188\n",
      "Epoch 17/50\n",
      "40/40 [==============================] - 2s 60ms/step - loss: 0.0448 - root_mean_squared_error: 0.2115 - val_loss: 0.0477 - val_root_mean_squared_error: 0.2185\n",
      "Epoch 18/50\n",
      "40/40 [==============================] - 3s 63ms/step - loss: 0.0446 - root_mean_squared_error: 0.2112 - val_loss: 0.0474 - val_root_mean_squared_error: 0.2177\n",
      "Epoch 19/50\n",
      "40/40 [==============================] - 3s 65ms/step - loss: 0.0443 - root_mean_squared_error: 0.2105 - val_loss: 0.0465 - val_root_mean_squared_error: 0.2155\n",
      "Epoch 20/50\n",
      "40/40 [==============================] - 3s 65ms/step - loss: 0.0429 - root_mean_squared_error: 0.2071 - val_loss: 0.0458 - val_root_mean_squared_error: 0.2140\n",
      "Epoch 21/50\n",
      "40/40 [==============================] - 3s 65ms/step - loss: 0.0424 - root_mean_squared_error: 0.2060 - val_loss: 0.0456 - val_root_mean_squared_error: 0.2136\n",
      "Epoch 22/50\n",
      "40/40 [==============================] - 3s 64ms/step - loss: 0.0423 - root_mean_squared_error: 0.2056 - val_loss: 0.0456 - val_root_mean_squared_error: 0.2134\n",
      "Epoch 23/50\n",
      "40/40 [==============================] - 2s 60ms/step - loss: 0.0422 - root_mean_squared_error: 0.2055 - val_loss: 0.0455 - val_root_mean_squared_error: 0.2134\n",
      "Epoch 24/50\n",
      "40/40 [==============================] - 2s 61ms/step - loss: 0.0422 - root_mean_squared_error: 0.2054 - val_loss: 0.0455 - val_root_mean_squared_error: 0.2133\n",
      "Epoch 25/50\n",
      "40/40 [==============================] - 2s 59ms/step - loss: 0.0422 - root_mean_squared_error: 0.2053 - val_loss: 0.0455 - val_root_mean_squared_error: 0.2132\n",
      "Epoch 26/50\n",
      "40/40 [==============================] - 2s 61ms/step - loss: 0.0421 - root_mean_squared_error: 0.2053 - val_loss: 0.0455 - val_root_mean_squared_error: 0.2132\n",
      "Epoch 27/50\n",
      "40/40 [==============================] - 3s 63ms/step - loss: 0.0421 - root_mean_squared_error: 0.2052 - val_loss: 0.0454 - val_root_mean_squared_error: 0.2132\n",
      "Epoch 28/50\n",
      "40/40 [==============================] - 2s 60ms/step - loss: 0.0421 - root_mean_squared_error: 0.2052 - val_loss: 0.0455 - val_root_mean_squared_error: 0.2133\n",
      "Epoch 29/50\n",
      "40/40 [==============================] - 2s 60ms/step - loss: 0.0421 - root_mean_squared_error: 0.2052 - val_loss: 0.0454 - val_root_mean_squared_error: 0.2131\n",
      "Epoch 30/50\n",
      "40/40 [==============================] - 3s 64ms/step - loss: 0.0421 - root_mean_squared_error: 0.2051 - val_loss: 0.0454 - val_root_mean_squared_error: 0.2132\n",
      "Epoch 31/50\n",
      "40/40 [==============================] - 3s 64ms/step - loss: 0.0421 - root_mean_squared_error: 0.2052 - val_loss: 0.0454 - val_root_mean_squared_error: 0.2132\n",
      "Epoch 32/50\n",
      "40/40 [==============================] - 3s 62ms/step - loss: 0.0421 - root_mean_squared_error: 0.2051 - val_loss: 0.0454 - val_root_mean_squared_error: 0.2131\n",
      "Epoch 33/50\n",
      "40/40 [==============================] - 2s 62ms/step - loss: 0.0421 - root_mean_squared_error: 0.2051 - val_loss: 0.0454 - val_root_mean_squared_error: 0.2131\n",
      "Epoch 34/50\n",
      "40/40 [==============================] - 3s 65ms/step - loss: 0.0421 - root_mean_squared_error: 0.2051 - val_loss: 0.0454 - val_root_mean_squared_error: 0.2131\n",
      "Epoch 35/50\n",
      "40/40 [==============================] - 3s 63ms/step - loss: 0.0421 - root_mean_squared_error: 0.2051 - val_loss: 0.0454 - val_root_mean_squared_error: 0.2131\n",
      "Epoch 36/50\n",
      "40/40 [==============================] - 2s 61ms/step - loss: 0.0420 - root_mean_squared_error: 0.2050 - val_loss: 0.0454 - val_root_mean_squared_error: 0.2131\n",
      "Epoch 37/50\n",
      "40/40 [==============================] - 3s 62ms/step - loss: 0.0420 - root_mean_squared_error: 0.2050 - val_loss: 0.0454 - val_root_mean_squared_error: 0.2131\n",
      "Epoch 38/50\n",
      "40/40 [==============================] - 3s 65ms/step - loss: 0.0420 - root_mean_squared_error: 0.2050 - val_loss: 0.0454 - val_root_mean_squared_error: 0.2131\n",
      "Epoch 39/50\n",
      "40/40 [==============================] - 3s 62ms/step - loss: 0.0420 - root_mean_squared_error: 0.2050 - val_loss: 0.0454 - val_root_mean_squared_error: 0.2131\n",
      "Epoch 40/50\n",
      "40/40 [==============================] - 3s 62ms/step - loss: 0.0420 - root_mean_squared_error: 0.2050 - val_loss: 0.0454 - val_root_mean_squared_error: 0.2130\n",
      "Epoch 41/50\n",
      "40/40 [==============================] - 2s 58ms/step - loss: 0.0420 - root_mean_squared_error: 0.2050 - val_loss: 0.0454 - val_root_mean_squared_error: 0.2131\n",
      "Epoch 42/50\n",
      "40/40 [==============================] - 3s 68ms/step - loss: 0.0420 - root_mean_squared_error: 0.2049 - val_loss: 0.0454 - val_root_mean_squared_error: 0.2131\n",
      "Epoch 43/50\n",
      "40/40 [==============================] - 2s 58ms/step - loss: 0.0420 - root_mean_squared_error: 0.2049 - val_loss: 0.0454 - val_root_mean_squared_error: 0.2131\n",
      "Epoch 44/50\n",
      "40/40 [==============================] - 2s 60ms/step - loss: 0.0420 - root_mean_squared_error: 0.2049 - val_loss: 0.0454 - val_root_mean_squared_error: 0.2131\n",
      "Epoch 45/50\n",
      "40/40 [==============================] - 2s 60ms/step - loss: 0.0420 - root_mean_squared_error: 0.2049 - val_loss: 0.0454 - val_root_mean_squared_error: 0.2131\n"
     ]
    }
   ],
   "source": [
    "early_stopping = EarlyStopping(monitor='val_loss', patience=5, restore_best_weights=True)\n",
    "opt = Adam(learning_rate=0.02)\n",
    "model.compile(loss='mean_squared_error', optimizer=opt, metrics=[RootMeanSquaredError()])\n",
    "hist = model.fit([X_train, day_train, month_train], y_train, batch_size=32, epochs=50, validation_data=([X_test, day_test, month_test], y_test), callbacks=[early_stopping])"
   ]
  },
  {
   "cell_type": "code",
   "execution_count": 51,
   "id": "99c73ee4-4d6d-44d9-b5a3-5155c117d309",
   "metadata": {},
   "outputs": [
    {
     "data": {
      "image/png": "[encoded data removed]",
      "text/plain": [
       "<Figure size 1200x600 with 1 Axes>"
      ]
     },
     "metadata": {},
     "output_type": "display_data"
    }
   ],
   "source": [
    "plt.figure(figsize=(12, 6))\n",
    "plt.plot(hist.history['root_mean_squared_error'], label='Train rmse')\n",
    "plt.plot(hist.history['val_root_mean_squared_error'], label='Validation rmse')\n",
    "plt.title('Model Loss')\n",
    "plt.xlabel('Epochs')\n",
    "plt.ylabel('Loss')\n",
    "plt.legend()\n",
    "\n",
    "plt.show()"
   ]
  },
  {
   "cell_type": "markdown",
   "id": "40018277-1ef1-41d7-81a8-fae92e428290",
   "metadata": {},
   "source": [
    "## Spectogram Features"
   ]
  },
  {
   "cell_type": "code",
   "execution_count": 52,
   "id": "a8605ab6-446f-43b5-9dd8-3a152204eb44",
   "metadata": {},
   "outputs": [
    {
     "data": {
      "text/plain": [
       "(1761, 30, 15, 31)"
      ]
     },
     "execution_count": 52,
     "metadata": {},
     "output_type": "execute_result"
    }
   ],
   "source": [
    "features.spec.shape"
   ]
  },
  {
   "cell_type": "code",
   "execution_count": 53,
   "id": "e91275ca-f7cd-4cb4-b0d8-5c25a2702f2f",
   "metadata": {},
   "outputs": [
    {
     "name": "stdout",
     "output_type": "stream",
     "text": [
      "WARNING:tensorflow:Layer lstm_8 will not use cuDNN kernels since it doesn't meet the criteria. It will use a generic GPU kernel as fallback when running on GPU.\n",
      "Model: \"model_6\"\n",
      "__________________________________________________________________________________________________\n",
      " Layer (type)                   Output Shape         Param #     Connected to                     \n",
      "==================================================================================================\n",
      " input_38 (InputLayer)          [(None, 30, 15, 31)  0           []                               \n",
      "                                ]                                                                 \n",
      "                                                                                                  \n",
      " batch_normalization (BatchNorm  (None, 30, 15, 31)  124         ['input_38[0][0]']               \n",
      " alization)                                                                                       \n",
      "                                                                                                  \n",
      " conv2d (Conv2D)                (None, 30, 15, 128)  416768      ['batch_normalization[0][0]']    \n",
      "                                                                                                  \n",
      " input_36 (InputLayer)          [(None, 30)]         0           []                               \n",
      "                                                                                                  \n",
      " input_37 (InputLayer)          [(None, 30)]         0           []                               \n",
      "                                                                                                  \n",
      " max_pooling2d (MaxPooling2D)   (None, 30, 1, 128)   0           ['conv2d[0][0]']                 \n",
      "                                                                                                  \n",
      " input_35 (InputLayer)          [(None, 30, 31)]     0           []                               \n",
      "                                                                                                  \n",
      " embedding_4 (Embedding)        (None, 30, 12)       144         ['input_36[0][0]']               \n",
      "                                                                                                  \n",
      " embedding_5 (Embedding)        (None, 30, 7)        49          ['input_37[0][0]']               \n",
      "                                                                                                  \n",
      " reshape (Reshape)              (None, 30, 128)      0           ['max_pooling2d[0][0]']          \n",
      "                                                                                                  \n",
      " concatenate_9 (Concatenate)    (None, 30, 178)      0           ['input_35[0][0]',               \n",
      "                                                                  'embedding_4[0][0]',            \n",
      "                                                                  'embedding_5[0][0]',            \n",
      "                                                                  'reshape[0][0]']                \n",
      "                                                                                                  \n",
      " lstm_8 (LSTM)                  (None, 31)           26040       ['concatenate_9[0][0]']          \n",
      "                                                                                                  \n",
      "==================================================================================================\n",
      "Total params: 443,125\n",
      "Trainable params: 443,063\n",
      "Non-trainable params: 62\n",
      "__________________________________________________________________________________________________\n"
     ]
    }
   ],
   "source": [
    "def predictor_v3():\n",
    "    i_seq = Input((30, 31))\n",
    "    i_month = Input((30))\n",
    "    i_day = Input((30))\n",
    "    i_spec = Input((30, 15, 31))\n",
    "    \n",
    "    c_spec = BatchNormalization()(i_spec)\n",
    "    c_spec = Convolution2D(128, kernel_size=(7, 15), padding='same')(c_spec)\n",
    "    c_spec = MaxPool2D((1, 15))(c_spec)\n",
    "    c_spec = Reshape((30, 128))(c_spec)\n",
    "    \n",
    "    e_month = Embedding(12, 12)(i_month)\n",
    "    e_day = Embedding(7, 7)(i_day) \n",
    "    \n",
    "    i = Concatenate(axis = 2)([i_seq, e_month, e_day, c_spec])\n",
    "    \n",
    "    \n",
    "    x = LSTM(31, activation='relu')(i)\n",
    "    return Model(inputs=[i_seq, i_day, i_month, i_spec], outputs=[x])\n",
    "\n",
    "model = predictor_v3()\n",
    "model.summary()"
   ]
  },
  {
   "cell_type": "code",
   "execution_count": 54,
   "id": "703ee564-7c53-45bd-8b01-be2d9788e87b",
   "metadata": {},
   "outputs": [],
   "source": [
    "n = features.spec.shape[0]"
   ]
  },
  {
   "cell_type": "code",
   "execution_count": 55,
   "id": "74cfe9fb-8465-4777-82b3-e4b8f45a0e78",
   "metadata": {},
   "outputs": [],
   "source": [
    "X_train, X_test, y_train, y_test, day_train, day_test, month_train, month_test, spec_train, spec_test =\\\n",
    "train_test_split(features.seq[:n], features.lab[:n], features.day[:n], features.month[:n], features.spec, test_size=0.3)"
   ]
  },
  {
   "cell_type": "code",
   "execution_count": 56,
   "id": "13c1b800-e6a5-4438-beb4-0468d5ebe133",
   "metadata": {},
   "outputs": [
    {
     "data": {
      "text/plain": [
       "((1232, 30, 31), (1232, 30), (1232, 30), (1232, 30, 15, 31))"
      ]
     },
     "execution_count": 56,
     "metadata": {},
     "output_type": "execute_result"
    }
   ],
   "source": [
    "X_train.shape, month_train.shape, day_train.shape, spec_train.shape"
   ]
  },
  {
   "cell_type": "code",
   "execution_count": 57,
   "id": "40062ea6-4bdf-4bda-93a5-6bac244ed517",
   "metadata": {
    "scrolled": true,
    "tags": []
   },
   "outputs": [
    {
     "name": "stdout",
     "output_type": "stream",
     "text": [
      "Epoch 1/50\n",
      "39/39 [==============================] - 9s 101ms/step - loss: 13502785.0000 - root_mean_squared_error: 3674.6135 - val_loss: 1257408.5000 - val_root_mean_squared_error: 1121.3422\n",
      "Epoch 2/50\n",
      "39/39 [==============================] - 3s 77ms/step - loss: 3327915.7500 - root_mean_squared_error: 1824.2577 - val_loss: 601215.3750 - val_root_mean_squared_error: 775.3808\n",
      "Epoch 3/50\n",
      "39/39 [==============================] - 3s 77ms/step - loss: 1513358.8750 - root_mean_squared_error: 1230.1865 - val_loss: 437548.5938 - val_root_mean_squared_error: 661.4745\n",
      "Epoch 4/50\n",
      "39/39 [==============================] - 3s 83ms/step - loss: 936744.4375 - root_mean_squared_error: 967.8557 - val_loss: 361335.2500 - val_root_mean_squared_error: 601.1116\n",
      "Epoch 5/50\n",
      "39/39 [==============================] - 3s 76ms/step - loss: 661841.5625 - root_mean_squared_error: 813.5364 - val_loss: 311289.2500 - val_root_mean_squared_error: 557.9330\n",
      "Epoch 6/50\n",
      "39/39 [==============================] - 3s 76ms/step - loss: 493679.0625 - root_mean_squared_error: 702.6230 - val_loss: 270419.1250 - val_root_mean_squared_error: 520.0183\n",
      "Epoch 7/50\n",
      "39/39 [==============================] - 3s 79ms/step - loss: 383504.1562 - root_mean_squared_error: 619.2771 - val_loss: 242647.2500 - val_root_mean_squared_error: 492.5924\n",
      "Epoch 8/50\n",
      "39/39 [==============================] - 3s 84ms/step - loss: 551063.5000 - root_mean_squared_error: 742.3365 - val_loss: 455679.9375 - val_root_mean_squared_error: 675.0406\n",
      "Epoch 9/50\n",
      "39/39 [==============================] - 3s 82ms/step - loss: 349183.3125 - root_mean_squared_error: 590.9174 - val_loss: 164628.6250 - val_root_mean_squared_error: 405.7445\n",
      "Epoch 10/50\n",
      "39/39 [==============================] - 3s 74ms/step - loss: 175763.1094 - root_mean_squared_error: 419.2411 - val_loss: 132806.6094 - val_root_mean_squared_error: 364.4264\n",
      "Epoch 11/50\n",
      "39/39 [==============================] - 3s 83ms/step - loss: 144807.7344 - root_mean_squared_error: 380.5361 - val_loss: 118947.5078 - val_root_mean_squared_error: 344.8877\n",
      "Epoch 12/50\n",
      "39/39 [==============================] - 3s 77ms/step - loss: 126013.2578 - root_mean_squared_error: 354.9834 - val_loss: 107644.1562 - val_root_mean_squared_error: 328.0917\n",
      "Epoch 13/50\n",
      "39/39 [==============================] - 3s 78ms/step - loss: 110772.2109 - root_mean_squared_error: 332.8246 - val_loss: 97111.8125 - val_root_mean_squared_error: 311.6277\n",
      "Epoch 14/50\n",
      "39/39 [==============================] - 3s 78ms/step - loss: 97874.3594 - root_mean_squared_error: 312.8488 - val_loss: 87408.8828 - val_root_mean_squared_error: 295.6499\n",
      "Epoch 15/50\n",
      "39/39 [==============================] - 4s 91ms/step - loss: 86901.4844 - root_mean_squared_error: 294.7906 - val_loss: 78355.1406 - val_root_mean_squared_error: 279.9199\n",
      "Epoch 16/50\n",
      "39/39 [==============================] - 3s 82ms/step - loss: 77078.0156 - root_mean_squared_error: 277.6293 - val_loss: 70184.6953 - val_root_mean_squared_error: 264.9240\n",
      "Epoch 17/50\n",
      "39/39 [==============================] - 4s 94ms/step - loss: 68468.5234 - root_mean_squared_error: 261.6649 - val_loss: 62438.8828 - val_root_mean_squared_error: 249.8777\n",
      "Epoch 18/50\n",
      "39/39 [==============================] - 3s 79ms/step - loss: 60690.5664 - root_mean_squared_error: 246.3545 - val_loss: 55623.5273 - val_root_mean_squared_error: 235.8464\n",
      "Epoch 19/50\n",
      "39/39 [==============================] - 3s 78ms/step - loss: 53817.5664 - root_mean_squared_error: 231.9861 - val_loss: 49402.1406 - val_root_mean_squared_error: 222.2659\n",
      "Epoch 20/50\n",
      "39/39 [==============================] - 3s 77ms/step - loss: 47811.6992 - root_mean_squared_error: 218.6589 - val_loss: 43818.9492 - val_root_mean_squared_error: 209.3298\n",
      "Epoch 21/50\n",
      "39/39 [==============================] - 3s 85ms/step - loss: 42296.5078 - root_mean_squared_error: 205.6611 - val_loss: 38763.0703 - val_root_mean_squared_error: 196.8834\n",
      "Epoch 22/50\n",
      "39/39 [==============================] - 3s 86ms/step - loss: 37424.7578 - root_mean_squared_error: 193.4548 - val_loss: 34234.5195 - val_root_mean_squared_error: 185.0257\n",
      "Epoch 23/50\n",
      "39/39 [==============================] - 3s 88ms/step - loss: 27471.6387 - root_mean_squared_error: 165.7457 - val_loss: 22438.7949 - val_root_mean_squared_error: 149.7958\n",
      "Epoch 24/50\n",
      "39/39 [==============================] - 3s 87ms/step - loss: 21858.3027 - root_mean_squared_error: 147.8455 - val_loss: 20328.9277 - val_root_mean_squared_error: 142.5795\n",
      "Epoch 25/50\n",
      "39/39 [==============================] - 3s 88ms/step - loss: 20023.1777 - root_mean_squared_error: 141.5033 - val_loss: 18678.4883 - val_root_mean_squared_error: 136.6693\n",
      "Epoch 26/50\n",
      "39/39 [==============================] - 3s 81ms/step - loss: 18421.6387 - root_mean_squared_error: 135.7263 - val_loss: 17214.7949 - val_root_mean_squared_error: 131.2052\n",
      "Epoch 27/50\n",
      "39/39 [==============================] - 3s 82ms/step - loss: 16977.2461 - root_mean_squared_error: 130.2968 - val_loss: 15851.5322 - val_root_mean_squared_error: 125.9029\n",
      "Epoch 28/50\n",
      "39/39 [==============================] - 3s 83ms/step - loss: 15641.2920 - root_mean_squared_error: 125.0651 - val_loss: 14607.7803 - val_root_mean_squared_error: 120.8626\n",
      "Epoch 29/50\n",
      "39/39 [==============================] - 3s 80ms/step - loss: 14398.0986 - root_mean_squared_error: 119.9921 - val_loss: 13472.9873 - val_root_mean_squared_error: 116.0732\n",
      "Epoch 30/50\n",
      "39/39 [==============================] - 3s 87ms/step - loss: 13275.6904 - root_mean_squared_error: 115.2202 - val_loss: 12441.0400 - val_root_mean_squared_error: 111.5394\n",
      "Epoch 31/50\n",
      "39/39 [==============================] - 4s 89ms/step - loss: 12276.3203 - root_mean_squared_error: 110.7986 - val_loss: 11523.0107 - val_root_mean_squared_error: 107.3453\n",
      "Epoch 32/50\n",
      "39/39 [==============================] - 3s 80ms/step - loss: 11339.0020 - root_mean_squared_error: 106.4847 - val_loss: 10618.3301 - val_root_mean_squared_error: 103.0453\n",
      "Epoch 33/50\n",
      "39/39 [==============================] - 3s 82ms/step - loss: 10499.6709 - root_mean_squared_error: 102.4679 - val_loss: 9831.1748 - val_root_mean_squared_error: 99.1523\n",
      "Epoch 34/50\n",
      "39/39 [==============================] - 4s 101ms/step - loss: 9725.1367 - root_mean_squared_error: 98.6161 - val_loss: 9130.3486 - val_root_mean_squared_error: 95.5529\n",
      "Epoch 35/50\n",
      "39/39 [==============================] - 3s 86ms/step - loss: 9022.8730 - root_mean_squared_error: 94.9888 - val_loss: 8467.9756 - val_root_mean_squared_error: 92.0216\n",
      "Epoch 36/50\n",
      "39/39 [==============================] - 3s 81ms/step - loss: 8387.1934 - root_mean_squared_error: 91.5816 - val_loss: 7892.1133 - val_root_mean_squared_error: 88.8376\n",
      "Epoch 37/50\n",
      "39/39 [==============================] - 3s 79ms/step - loss: 7799.5098 - root_mean_squared_error: 88.3148 - val_loss: 7351.8130 - val_root_mean_squared_error: 85.7427\n",
      "Epoch 38/50\n",
      "39/39 [==============================] - 3s 79ms/step - loss: 7279.7305 - root_mean_squared_error: 85.3213 - val_loss: 6853.3828 - val_root_mean_squared_error: 82.7852\n",
      "Epoch 39/50\n",
      "39/39 [==============================] - 3s 88ms/step - loss: 6786.0659 - root_mean_squared_error: 82.3776 - val_loss: 6403.5938 - val_root_mean_squared_error: 80.0225\n",
      "Epoch 40/50\n",
      "39/39 [==============================] - 3s 83ms/step - loss: 6341.7842 - root_mean_squared_error: 79.6353 - val_loss: 5998.2949 - val_root_mean_squared_error: 77.4487\n",
      "Epoch 41/50\n",
      "39/39 [==============================] - 3s 77ms/step - loss: 5948.0156 - root_mean_squared_error: 77.1234 - val_loss: 5609.3071 - val_root_mean_squared_error: 74.8953\n",
      "Epoch 42/50\n",
      "39/39 [==============================] - 3s 88ms/step - loss: 5562.1333 - root_mean_squared_error: 74.5797 - val_loss: 5256.8027 - val_root_mean_squared_error: 72.5038\n",
      "Epoch 43/50\n",
      "39/39 [==============================] - 3s 82ms/step - loss: 5225.2842 - root_mean_squared_error: 72.2861 - val_loss: 4937.7036 - val_root_mean_squared_error: 70.2688\n",
      "Epoch 44/50\n",
      "39/39 [==============================] - 3s 80ms/step - loss: 4905.6919 - root_mean_squared_error: 70.0406 - val_loss: 4640.5757 - val_root_mean_squared_error: 68.1218\n",
      "Epoch 45/50\n",
      "39/39 [==============================] - 3s 82ms/step - loss: 4617.0732 - root_mean_squared_error: 67.9491 - val_loss: 4371.5498 - val_root_mean_squared_error: 66.1177\n",
      "Epoch 46/50\n",
      "39/39 [==============================] - 3s 86ms/step - loss: 4342.5054 - root_mean_squared_error: 65.8977 - val_loss: 4123.2490 - val_root_mean_squared_error: 64.2125\n",
      "Epoch 47/50\n",
      "39/39 [==============================] - 3s 81ms/step - loss: 4107.7495 - root_mean_squared_error: 64.0917 - val_loss: 3899.3865 - val_root_mean_squared_error: 62.4451\n",
      "Epoch 48/50\n",
      "39/39 [==============================] - 3s 82ms/step - loss: 3878.1943 - root_mean_squared_error: 62.2751 - val_loss: 3695.4675 - val_root_mean_squared_error: 60.7904\n",
      "Epoch 49/50\n",
      "39/39 [==============================] - 3s 81ms/step - loss: 3665.0393 - root_mean_squared_error: 60.5396 - val_loss: 3493.5620 - val_root_mean_squared_error: 59.1064\n",
      "Epoch 50/50\n",
      "39/39 [==============================] - 3s 78ms/step - loss: 3477.2327 - root_mean_squared_error: 58.9681 - val_loss: 3310.9399 - val_root_mean_squared_error: 57.5408\n"
     ]
    }
   ],
   "source": [
    "early_stopping = EarlyStopping(monitor='val_loss', patience=5, restore_best_weights=True)\n",
    "opt = Adam(learning_rate=0.02)\n",
    "model.compile(loss='mean_squared_error', optimizer=opt, metrics=[RootMeanSquaredError()])\n",
    "hist = model.fit([X_train, day_train, month_train, spec_train], y_train, batch_size=32, epochs=50, validation_data=([X_test, day_test, month_test, spec_test], y_test), callbacks=[early_stopping])"
   ]
  },
  {
   "cell_type": "code",
   "execution_count": 58,
   "id": "3b8172ab-5245-49a9-a3fb-67e1a7c15230",
   "metadata": {},
   "outputs": [
    {
     "data": {
      "image/png": "[encoded data removed]",
      "text/plain": [
       "<Figure size 1200x600 with 1 Axes>"
      ]
     },
     "metadata": {},
     "output_type": "display_data"
    }
   ],
   "source": [
    "plt.figure(figsize=(12, 6))\n",
    "plt.plot(hist.history['root_mean_squared_error'], label='Train rmse')\n",
    "plt.plot(hist.history['val_root_mean_squared_error'], label='Validation rmse')\n",
    "plt.title('Model Loss')\n",
    "plt.xlabel('Epochs')\n",
    "plt.ylabel('Loss')\n",
    "plt.legend()\n",
    "\n",
    "plt.show()"
   ]
  },
  {
   "cell_type": "markdown",
   "id": "39d60373-bdb6-4060-9952-93cc24caadc5",
   "metadata": {},
   "source": [
    "# Inference"
   ]
  },
  {
   "cell_type": "code",
   "execution_count": 60,
   "id": "7221ef02-6ca7-4b56-89e6-0da4da5c38c1",
   "metadata": {},
   "outputs": [],
   "source": [
    "def forecast_next_days(model, last_data, days=40):\n",
    "    predictions = []\n",
    "    current_data = last_data\n",
    "    for _ in range(days):\n",
    "        next_pred = model.predict(current_data.reshape(1, time_steps, current_data.shape[1]))\n",
    "        predictions.append(next_pred[0])\n",
    "        current_data = np.append(current_data[1:], [next_pred[0]], axis=0)  # Update the input for the next prediction\n",
    "    return np.array(predictions)"
   ]
  },
  {
   "cell_type": "code",
   "execution_count": null,
   "id": "195b5f2a-6a0b-46fc-bd4d-4963e5b2c53f",
   "metadata": {},
   "outputs": [],
   "source": []
  }
 ],
 "metadata": {
  "kernelspec": {
   "display_name": "Python 3 (ipykernel)",
   "language": "python",
   "name": "python3"
  },
  "language_info": {
   "codemirror_mode": {
    "name": "ipython",
    "version": 3
   },
   "file_extension": ".py",
   "mimetype": "text/x-python",
   "name": "python",
   "nbconvert_exporter": "python",
   "pygments_lexer": "ipython3",
   "version": "3.10.6"
  }
 },
 "nbformat": 4,
 "nbformat_minor": 5
}
