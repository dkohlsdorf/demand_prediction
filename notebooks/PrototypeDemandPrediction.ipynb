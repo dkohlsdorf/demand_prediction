{
 "cells": [
  {
   "cell_type": "code",
   "execution_count": 1,
   "id": "dcb0d6c4-221b-4089-b8d0-2836789f689b",
   "metadata": {},
   "outputs": [],
   "source": [
    "import zipfile\n",
    "import pandas as pd\n",
    "import matplotlib.pyplot as plt\n",
    "import seaborn as sns\n",
    "import matplotlib.dates as mdates\n",
    "\n",
    "from matplotlib.ticker import StrMethodFormatter       # to set a comma format\n",
    "from sklearn.preprocessing import MinMaxScaler\n",
    "\n",
    "\n",
    "from collections import namedtuple, defaultdict"
   ]
  },
  {
   "cell_type": "code",
   "execution_count": 59,
   "id": "12fa5a42-b856-45d9-8466-da0f52538024",
   "metadata": {},
   "outputs": [],
   "source": [
    "zip = zipfile.ZipFile('data/archive.zip')\n",
    "fp = zip.open('Historical Product Demand.csv') \n",
    "df = pd.read_csv(fp)\n",
    "\n",
    "\n",
    "df.dropna(subset=['Date'], inplace=True)\n",
    "df.dropna(subset=['Order_Demand'], inplace=True)\n",
    "\n",
    "df['Order_Demand'] = df['Order_Demand'].str.replace('(',\"\")\n",
    "df['Order_Demand'] = df['Order_Demand'].str.replace(')',\"\")\n",
    "df['Order_Demand'] = df['Order_Demand'].astype('int64')\n",
    "\n",
    "df['Date'] = pd.to_datetime(df['Date']) \n",
    "df.sort_values('Date', inplace=True)\n",
    "\n",
    "df['Month']  = df['Date'].dt.month_name()\n",
    "df['Year']   = df['Date'].dt.year\n",
    "df['Months'] = df['Date'].dt.to_period('M').dt.to_timestamp()"
   ]
  },
  {
   "cell_type": "code",
   "execution_count": 58,
   "id": "e3d47976-2b41-4007-a353-0055a0cdda91",
   "metadata": {},
   "outputs": [],
   "source": [
    "df_whse_a = df[df.Warehouse == 'Whse_A']"
   ]
  },
  {
   "cell_type": "code",
   "execution_count": 4,
   "id": "4b0a868c-cf27-4915-8ddc-ef77a5561c2f",
   "metadata": {},
   "outputs": [
    {
     "name": "stdout",
     "output_type": "stream",
     "text": [
      "\n",
      "#rows:       142335\n",
      "#products:   427\n",
      "#categories: 25\n",
      "#warehouse:  1\n",
      "\n"
     ]
    }
   ],
   "source": [
    "n_products = len(set(df_whse_a['Product_Code']))\n",
    "n_rows = len(df_whse_a)\n",
    "n_warehouse = len(set(df_whse_a['Warehouse']))\n",
    "n_categories = len(set(df_whse_a['Product_Category']))\n",
    "\n",
    "print(f\"\"\"\n",
    "#rows:       {n_rows}\n",
    "#products:   {n_products}\n",
    "#categories: {n_categories}\n",
    "#warehouse:  {n_warehouse}\n",
    "\"\"\")"
   ]
  },
  {
   "cell_type": "code",
   "execution_count": 5,
   "id": "376e9a45-84d3-49d5-8a79-07f6ae600544",
   "metadata": {},
   "outputs": [],
   "source": [
    "x = df_whse_a[(df_whse_a.Months >= '2012-01-01') & (df_whse_a.Months < '2017-01-01')].groupby('Months')['Order_Demand'].sum()\n",
    "x = x.reset_index()"
   ]
  },
  {
   "cell_type": "code",
   "execution_count": null,
   "id": "45a6578a-a640-4420-be9e-4d7c58e17a60",
   "metadata": {},
   "outputs": [],
   "source": [
    "# choose a warehouse\n",
    "df_whse_a.drop(['Warehouse', 'Product_Category'], axis=1, inplace=True)"
   ]
  },
  {
   "cell_type": "code",
   "execution_count": 8,
   "id": "a6ecb056-2d1e-4326-b5ed-75512dbd3a85",
   "metadata": {},
   "outputs": [],
   "source": [
    "# filter for freuent product\n",
    "threshold = 1000\n",
    "filtered_data = df_whse_a[(df_whse_a.Year >= 2012) & (df_whse_a.Year < 2017)]\n",
    "frequent_products = df_whse_a.groupby('Product_Code')['Order_Demand'].sum().reset_index()\n",
    "frequent_products = set(frequent_products[frequent_products['Order_Demand'] > threshold].Product_Code)\n",
    "filtered_data = filtered_data[filtered_data.Product_Code.isin(frequent_products)]"
   ]
  },
  {
   "cell_type": "code",
   "execution_count": 10,
   "id": "adaa14d3-0c8c-4f89-b56e-4dfd6c481d1b",
   "metadata": {},
   "outputs": [],
   "source": [
    "# aggregation\n",
    "data_aggregated       = filtered_data[['Product_Code', 'Date', 'Order_Demand']]\n",
    "data_aggregated       = data_aggregated.groupby(['Product_Code', 'Date']).sum().reset_index()\n",
    "\n",
    "# weekly\n",
    "data_pivot            = data_aggregated.pivot(index='Date', columns='Product_Code', values='Order_Demand').fillna(0)\n",
    "data_resampled_weekly = data_pivot.resample('W').sum()\n",
    "\n",
    "# daily\n",
    "daily_index           = pd.date_range(start=data_resampled_weekly.index.min(), end=data_resampled_weekly.index.max(), freq='D')\n",
    "data_resampled_daily  = data_resampled_weekly.reindex(daily_index).ffill() / 7"
   ]
  },
  {
   "cell_type": "code",
   "execution_count": 13,
   "id": "9e3c799f-b1e4-41e0-b7af-987dbadea949",
   "metadata": {},
   "outputs": [],
   "source": [
    "import numpy as np\n",
    "from numpy.fft import fft\n",
    "\n",
    "def spectrogram(audio, win = 7, step=1, normalize=True):\n",
    "    spectrogram = []\n",
    "    hanning = np.hanning(win)\n",
    "    for i in range(win, len(audio), step):\n",
    "        dft = np.abs(fft(audio[i - win: i] * hanning))\n",
    "        if normalize:\n",
    "            mu  = np.mean(dft)\n",
    "            std = np.std(dft) + 1.0\n",
    "            spectrogram.append((dft - mu) / std)\n",
    "        else:\n",
    "            spectrogram.append(dft)        \n",
    "    spectrogram = np.array(spectrogram)[:, :win//2]\n",
    "    return spectrogram\n"
   ]
  },
  {
   "cell_type": "code",
   "execution_count": 60,
   "id": "98d167b0-49aa-4cb4-b10e-f259fe880b09",
   "metadata": {},
   "outputs": [],
   "source": [
    "def create_sequences(data, time_steps=1):\n",
    "    X, y = [], []\n",
    "    for i in range(len(data) - time_steps):\n",
    "        X.append(data[i:(i + time_steps)])\n",
    "        y.append(data[i + time_steps])\n",
    "    return np.array(X), np.array(y)\n",
    "\n",
    "WEEK_IDX = {\n",
    "  'Monday' : 0,\n",
    "  'Tuesday': 1,\n",
    "  'Wednesday': 2,\n",
    "  'Thursday': 3,\n",
    "  'Friday':4 ,\n",
    "  'Saturday': 5,\n",
    "  'Sunday': 6, \n",
    "}\n",
    "def days_of_week(df, time_steps=1): \n",
    "    names = list(df.index.day_name())\n",
    "    names = [WEEK_IDX[name] for name in names]\n",
    "    X = []\n",
    "    for i in range(len(names) - time_steps):\n",
    "        X.append(names[i:(i + time_steps)])\n",
    "    return np.array(X)\n",
    "\n",
    "\n",
    "MONTH_IDX = {\n",
    "    'January': 0,\n",
    "    'February': 1,\n",
    "    'March': 2,\n",
    "    'April': 3,\n",
    "    'May': 4,\n",
    "    'June': 5,\n",
    "    'July': 6,\n",
    "    'August': 7,\n",
    "    'September': 8,\n",
    "    'October': 9,\n",
    "    'November': 10,\n",
    "    'December': 11\n",
    "}\n",
    "def month_of_year(df, time_steps=1): \n",
    "    names = list(df.index.month_name())\n",
    "    names = [MONTH_IDX[name] for name in names]\n",
    "    X = []\n",
    "    for i in range(len(names) - time_steps):\n",
    "        X.append(names[i:(i + time_steps)])\n",
    "    return np.array(X)\n",
    "\n",
    "\n",
    "def spectrogram_features(data, time_steps=1):\n",
    "    t, d = data.shape\n",
    "    spectrograms = []\n",
    "    for i in range(0, d):\n",
    "        spectrograms.append(spectrogram(data[:, i], win=30).T)\n",
    "    stacked = np.stack(spectrograms).T\n",
    "    X = []\n",
    "    for i in range(len(stacked) - time_steps):\n",
    "        X.append(stacked[i:(i + time_steps)])\n",
    "    return np.array(X)"
   ]
  },
  {
   "cell_type": "code",
   "execution_count": 61,
   "id": "c335c74e-f14b-4f5a-bf66-4dbc56ad0618",
   "metadata": {},
   "outputs": [],
   "source": [
    "spec = spectrogram_features(scaled_data, time_steps=30)"
   ]
  },
  {
   "cell_type": "code",
   "execution_count": 62,
   "id": "9ad66178-30b9-4bc0-aafb-de0464018f33",
   "metadata": {},
   "outputs": [],
   "source": [
    "month_features = month_of_year(data_resampled_daily, time_steps=30)"
   ]
  },
  {
   "cell_type": "code",
   "execution_count": 63,
   "id": "c4835e53-ed6f-4a1e-9011-08ecee371558",
   "metadata": {},
   "outputs": [],
   "source": [
    "day_features = days_of_week(data_resampled_daily, time_steps=30)"
   ]
  },
  {
   "cell_type": "code",
   "execution_count": 64,
   "id": "7a8484cc-a161-4f38-a567-f01485c0ebfa",
   "metadata": {},
   "outputs": [],
   "source": [
    "scaler = MinMaxScaler()\n",
    "scaled_data = scaler.fit_transform(data_resampled_daily)"
   ]
  },
  {
   "cell_type": "code",
   "execution_count": 65,
   "id": "6685b909-472e-49d5-be7d-0f302ec45861",
   "metadata": {},
   "outputs": [],
   "source": [
    "time_steps = 30  # e.g., 30 days\n",
    "X, y = create_sequences(scaled_data, time_steps)"
   ]
  },
  {
   "cell_type": "code",
   "execution_count": 66,
   "id": "10a43e95-6960-443c-a4fb-3a57e33433ff",
   "metadata": {},
   "outputs": [
    {
     "data": {
      "text/plain": [
       "((1791, 30, 339), (1791, 339), (1791, 30), (1791, 30), (1761, 30, 15, 339))"
      ]
     },
     "execution_count": 66,
     "metadata": {},
     "output_type": "execute_result"
    }
   ],
   "source": [
    "X.shape, y.shape, month_features.shape, day_features.shape, spec.shape"
   ]
  },
  {
   "cell_type": "code",
   "execution_count": null,
   "id": "20da79d2-5b1e-4e42-99e1-e378d30140a0",
   "metadata": {},
   "outputs": [],
   "source": []
  }
 ],
 "metadata": {
  "kernelspec": {
   "display_name": "Python 3 (ipykernel)",
   "language": "python",
   "name": "python3"
  },
  "language_info": {
   "codemirror_mode": {
    "name": "ipython",
    "version": 3
   },
   "file_extension": ".py",
   "mimetype": "text/x-python",
   "name": "python",
   "nbconvert_exporter": "python",
   "pygments_lexer": "ipython3",
   "version": "3.11.7"
  }
 },
 "nbformat": 4,
 "nbformat_minor": 5
}
