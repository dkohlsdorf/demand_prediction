{
 "cells": [
  {
   "cell_type": "markdown",
   "id": "3f67ba7a-67d9-4444-b8e9-075dfd0e329a",
   "metadata": {},
   "source": [
    "# Feature Engineer"
   ]
  },
  {
   "cell_type": "code",
   "execution_count": 62,
   "id": "dcb0d6c4-221b-4089-b8d0-2836789f689b",
   "metadata": {},
   "outputs": [],
   "source": [
    "import zipfile\n",
    "import pandas as pd\n",
    "import matplotlib.pyplot as plt\n",
    "import seaborn as sns\n",
    "import matplotlib.dates as mdates\n",
    "\n",
    "from matplotlib.ticker import StrMethodFormatter\n",
    "from sklearn.preprocessing import MinMaxScaler\n",
    "\n",
    "\n",
    "from collections import namedtuple, defaultdict"
   ]
  },
  {
   "cell_type": "code",
   "execution_count": 63,
   "id": "12fa5a42-b856-45d9-8466-da0f52538024",
   "metadata": {},
   "outputs": [
    {
     "name": "stderr",
     "output_type": "stream",
     "text": [
      "/tmp/ipykernel_6152/1904672436.py:9: FutureWarning: The default value of regex will change from True to False in a future version. In addition, single character regular expressions will *not* be treated as literal strings when regex=True.\n",
      "  df['Order_Demand'] = df['Order_Demand'].str.replace('(',\"\")\n",
      "/tmp/ipykernel_6152/1904672436.py:10: FutureWarning: The default value of regex will change from True to False in a future version. In addition, single character regular expressions will *not* be treated as literal strings when regex=True.\n",
      "  df['Order_Demand'] = df['Order_Demand'].str.replace(')',\"\")\n"
     ]
    }
   ],
   "source": [
    "zip = zipfile.ZipFile('../data/archive.zip')\n",
    "fp = zip.open('Historical Product Demand.csv') \n",
    "df = pd.read_csv(fp)\n",
    "\n",
    "\n",
    "df.dropna(subset=['Date'], inplace=True)\n",
    "df.dropna(subset=['Order_Demand'], inplace=True)\n",
    "\n",
    "df['Order_Demand'] = df['Order_Demand'].str.replace('(',\"\")\n",
    "df['Order_Demand'] = df['Order_Demand'].str.replace(')',\"\")\n",
    "df['Order_Demand'] = df['Order_Demand'].astype('int64')\n",
    "\n",
    "df['Date'] = pd.to_datetime(df['Date']) \n",
    "df.sort_values('Date', inplace=True)\n",
    "\n",
    "df['Month']  = df['Date'].dt.month_name()\n",
    "df['Year']   = df['Date'].dt.year\n",
    "df['Months'] = df['Date'].dt.to_period('M').dt.to_timestamp()"
   ]
  },
  {
   "cell_type": "code",
   "execution_count": 64,
   "id": "e3d47976-2b41-4007-a353-0055a0cdda91",
   "metadata": {},
   "outputs": [],
   "source": [
    "df_whse_a = df[df.Warehouse == 'Whse_A']"
   ]
  },
  {
   "cell_type": "code",
   "execution_count": 65,
   "id": "4b0a868c-cf27-4915-8ddc-ef77a5561c2f",
   "metadata": {},
   "outputs": [
    {
     "name": "stdout",
     "output_type": "stream",
     "text": [
      "\n",
      "#rows:       142335\n",
      "#products:   427\n",
      "#categories: 25\n",
      "#warehouse:  1\n",
      "\n"
     ]
    }
   ],
   "source": [
    "n_products = len(set(df_whse_a['Product_Code']))\n",
    "n_rows = len(df_whse_a)\n",
    "n_warehouse = len(set(df_whse_a['Warehouse']))\n",
    "n_categories = len(set(df_whse_a['Product_Category']))\n",
    "\n",
    "print(f\"\"\"\n",
    "#rows:       {n_rows}\n",
    "#products:   {n_products}\n",
    "#categories: {n_categories}\n",
    "#warehouse:  {n_warehouse}\n",
    "\"\"\")"
   ]
  },
  {
   "cell_type": "code",
   "execution_count": 66,
   "id": "376e9a45-84d3-49d5-8a79-07f6ae600544",
   "metadata": {},
   "outputs": [],
   "source": [
    "x = df_whse_a[(df_whse_a.Months >= '2012-01-01') & (df_whse_a.Months < '2017-01-01')].groupby('Months')['Order_Demand'].sum()\n",
    "x = x.reset_index()"
   ]
  },
  {
   "cell_type": "code",
   "execution_count": 67,
   "id": "45a6578a-a640-4420-be9e-4d7c58e17a60",
   "metadata": {},
   "outputs": [
    {
     "name": "stderr",
     "output_type": "stream",
     "text": [
      "/tmp/ipykernel_6152/3432016049.py:2: SettingWithCopyWarning: \n",
      "A value is trying to be set on a copy of a slice from a DataFrame\n",
      "\n",
      "See the caveats in the documentation: https://pandas.pydata.org/pandas-docs/stable/user_guide/indexing.html#returning-a-view-versus-a-copy\n",
      "  df_whse_a.drop(['Warehouse', 'Product_Category'], axis=1, inplace=True)\n"
     ]
    }
   ],
   "source": [
    "# choose a warehouse\n",
    "df_whse_a.drop(['Warehouse', 'Product_Category'], axis=1, inplace=True)"
   ]
  },
  {
   "cell_type": "code",
   "execution_count": 68,
   "id": "a6ecb056-2d1e-4326-b5ed-75512dbd3a85",
   "metadata": {},
   "outputs": [],
   "source": [
    "# filter for freuent product\n",
    "threshold = 1000\n",
    "filtered_data = df_whse_a[(df_whse_a.Year >= 2012) & (df_whse_a.Year < 2017)]\n",
    "frequent_products = filtered_data['Product_Code'].value_counts()[filtered_data['Product_Code'].value_counts() > threshold].index\n",
    "filtered_data = filtered_data[filtered_data.Product_Code.isin(frequent_products)]"
   ]
  },
  {
   "cell_type": "code",
   "execution_count": 69,
   "id": "adaa14d3-0c8c-4f89-b56e-4dfd6c481d1b",
   "metadata": {},
   "outputs": [],
   "source": [
    "# aggregation\n",
    "data_aggregated       = filtered_data[['Product_Code', 'Date', 'Order_Demand']]\n",
    "data_aggregated       = data_aggregated.groupby(['Product_Code', 'Date']).sum().reset_index()\n",
    "\n",
    "# weekly\n",
    "data_pivot            = data_aggregated.pivot(index='Date', columns='Product_Code', values='Order_Demand').fillna(0)\n",
    "data_resampled_weekly = data_pivot.resample('W').sum()\n",
    "\n",
    "# daily\n",
    "daily_index           = pd.date_range(start=data_resampled_weekly.index.min(), end=data_resampled_weekly.index.max(), freq='D')\n",
    "data_resampled_daily  = data_resampled_weekly.reindex(daily_index).ffill() / 7"
   ]
  },
  {
   "cell_type": "code",
   "execution_count": 70,
   "id": "9e3c799f-b1e4-41e0-b7af-987dbadea949",
   "metadata": {},
   "outputs": [],
   "source": [
    "import numpy as np\n",
    "from numpy.fft import fft\n",
    "\n",
    "def spectrogram(audio, win = 7, step=1, normalize=True):\n",
    "    spectrogram = []\n",
    "    hanning = np.hanning(win)\n",
    "    for i in range(win, len(audio), step):\n",
    "        dft = np.abs(fft(audio[i - win: i] * hanning))\n",
    "        if normalize:\n",
    "            mu  = np.mean(dft)\n",
    "            std = np.std(dft) + 1.0\n",
    "            spectrogram.append((dft - mu) / std)\n",
    "        else:\n",
    "            spectrogram.append(dft)        \n",
    "    spectrogram = np.array(spectrogram)[:, :win//2]\n",
    "    return spectrogram\n"
   ]
  },
  {
   "cell_type": "code",
   "execution_count": 71,
   "id": "98d167b0-49aa-4cb4-b10e-f259fe880b09",
   "metadata": {},
   "outputs": [],
   "source": [
    "def create_sequences(data, time_steps=1):\n",
    "    X, y = [], []\n",
    "    for i in range(len(data) - time_steps):\n",
    "        X.append(data[i:(i + time_steps)])\n",
    "        y.append(data[i + time_steps])\n",
    "    return np.array(X), np.array(y)\n",
    "\n",
    "WEEK_IDX = {\n",
    "  'Monday' : 0,\n",
    "  'Tuesday': 1,\n",
    "  'Wednesday': 2,\n",
    "  'Thursday': 3,\n",
    "  'Friday':4 ,\n",
    "  'Saturday': 5,\n",
    "  'Sunday': 6, \n",
    "}\n",
    "def days_of_week(df, time_steps=1): \n",
    "    names = list(df.index.day_name())\n",
    "    names = [WEEK_IDX[name] for name in names]\n",
    "    X = []\n",
    "    for i in range(len(names) - time_steps):\n",
    "        X.append(names[i:(i + time_steps)])\n",
    "    return np.array(X)\n",
    "\n",
    "\n",
    "MONTH_IDX = {\n",
    "    'January': 0,\n",
    "    'February': 1,\n",
    "    'March': 2,\n",
    "    'April': 3,\n",
    "    'May': 4,\n",
    "    'June': 5,\n",
    "    'July': 6,\n",
    "    'August': 7,\n",
    "    'September': 8,\n",
    "    'October': 9,\n",
    "    'November': 10,\n",
    "    'December': 11\n",
    "}\n",
    "def month_of_year(df, time_steps=1): \n",
    "    names = list(df.index.month_name())\n",
    "    names = [MONTH_IDX[name] for name in names]\n",
    "    X = []\n",
    "    for i in range(len(names) - time_steps):\n",
    "        X.append(names[i:(i + time_steps)])\n",
    "    return np.array(X)\n",
    "\n",
    "\n",
    "def spectrogram_features(data, time_steps=1):\n",
    "    t, d = data.shape\n",
    "    spectrograms = []\n",
    "    for i in range(0, d):\n",
    "        spectrograms.append(spectrogram(data[:, i], win=30).T)\n",
    "    stacked = np.stack(spectrograms).T\n",
    "    X = []\n",
    "    for i in range(len(stacked) - time_steps):\n",
    "        X.append(stacked[i:(i + time_steps)])\n",
    "    return np.array(X)"
   ]
  },
  {
   "cell_type": "code",
   "execution_count": 72,
   "id": "7a8484cc-a161-4f38-a567-f01485c0ebfa",
   "metadata": {},
   "outputs": [],
   "source": [
    "scaler = MinMaxScaler()\n",
    "scaled_data = scaler.fit_transform(data_resampled_daily)"
   ]
  },
  {
   "cell_type": "code",
   "execution_count": 73,
   "id": "c335c74e-f14b-4f5a-bf66-4dbc56ad0618",
   "metadata": {},
   "outputs": [],
   "source": [
    "spec = spectrogram_features(scaled_data, time_steps=30)"
   ]
  },
  {
   "cell_type": "code",
   "execution_count": 74,
   "id": "9ad66178-30b9-4bc0-aafb-de0464018f33",
   "metadata": {},
   "outputs": [],
   "source": [
    "month_features = month_of_year(data_resampled_daily, time_steps=30)"
   ]
  },
  {
   "cell_type": "code",
   "execution_count": 75,
   "id": "c4835e53-ed6f-4a1e-9011-08ecee371558",
   "metadata": {},
   "outputs": [],
   "source": [
    "day_features = days_of_week(data_resampled_daily, time_steps=30)"
   ]
  },
  {
   "cell_type": "code",
   "execution_count": 76,
   "id": "6685b909-472e-49d5-be7d-0f302ec45861",
   "metadata": {},
   "outputs": [],
   "source": [
    "time_steps = 30  # e.g., 30 days\n",
    "X, y = create_sequences(scaled_data, time_steps)"
   ]
  },
  {
   "cell_type": "code",
   "execution_count": 77,
   "id": "10a43e95-6960-443c-a4fb-3a57e33433ff",
   "metadata": {},
   "outputs": [
    {
     "data": {
      "text/plain": [
       "((1791, 30, 31), (1791, 31), (1791, 30), (1791, 30), (1761, 30, 15, 31))"
      ]
     },
     "execution_count": 77,
     "metadata": {},
     "output_type": "execute_result"
    }
   ],
   "source": [
    "X.shape, y.shape, month_features.shape, day_features.shape, spec.shape"
   ]
  },
  {
   "cell_type": "code",
   "execution_count": 78,
   "id": "3d7800e0-d271-4fb4-a701-390d430263c5",
   "metadata": {},
   "outputs": [],
   "source": [
    "import pickle as pkl\n",
    "\n",
    "Features = namedtuple('Features', 'seq month day spec lab')\n",
    "\n",
    "with open('features.pkl', 'wb') as f:\n",
    "    pkl.dump(Features(X, month_features, day_features, spec, y), f)"
   ]
  },
  {
   "cell_type": "markdown",
   "id": "32be76b5-c60c-45db-ba6a-2936c33e5134",
   "metadata": {},
   "source": [
    "# Modeling"
   ]
  },
  {
   "cell_type": "code",
   "execution_count": 84,
   "id": "0a7c33e7-293c-4dc0-93bc-7992cb6c67bd",
   "metadata": {},
   "outputs": [],
   "source": [
    "import pickle as pkl\n",
    "import tensorflow as tf\n",
    "\n",
    "from tensorflow.keras.callbacks import EarlyStopping\n",
    "from tensorflow.keras.layers import * \n",
    "from tensorflow.keras.models import * \n",
    "from collections import namedtuple\n",
    "from sklearn.model_selection import train_test_split\n",
    "from tensorflow.keras.optimizers import * \n",
    "from tensorflow.keras.metrics import * \n",
    "Features = namedtuple('Features', 'seq month day spec lab')"
   ]
  },
  {
   "cell_type": "code",
   "execution_count": 85,
   "id": "b692a112-5af7-4086-b2c5-9d2001cfdc06",
   "metadata": {},
   "outputs": [],
   "source": [
    "features = pkl.load(open('features.pkl', 'rb'))\n",
    "X_train, X_test, y_train, y_test = train_test_split(features.seq, features.lab, test_size=0.3)"
   ]
  },
  {
   "cell_type": "code",
   "execution_count": 86,
   "id": "6847f12f-8f85-4992-8e3c-e1861bcd6890",
   "metadata": {},
   "outputs": [
    {
     "name": "stdout",
     "output_type": "stream",
     "text": [
      "(1253, 30, 31) (1253, 31)\n"
     ]
    }
   ],
   "source": [
    "print(X_train.shape, y_train.shape)"
   ]
  },
  {
   "cell_type": "code",
   "execution_count": 87,
   "id": "80ad9528-2b87-4bfb-a90b-2e2be4817d71",
   "metadata": {},
   "outputs": [
    {
     "name": "stdout",
     "output_type": "stream",
     "text": [
      "WARNING:tensorflow:Layer lstm_15 will not use cuDNN kernels since it doesn't meet the criteria. It will use a generic GPU kernel as fallback when running on GPU.\n",
      "Model: \"model_15\"\n",
      "_________________________________________________________________\n",
      " Layer (type)                Output Shape              Param #   \n",
      "=================================================================\n",
      " input_17 (InputLayer)       [(None, 30, 31)]          0         \n",
      "                                                                 \n",
      " lstm_15 (LSTM)              (None, 31)                7812      \n",
      "                                                                 \n",
      "=================================================================\n",
      "Total params: 7,812\n",
      "Trainable params: 7,812\n",
      "Non-trainable params: 0\n",
      "_________________________________________________________________\n"
     ]
    }
   ],
   "source": [
    "def predictor():\n",
    "    i = Input((30, 31))\n",
    "    x = LSTM(31, activation='relu')(i)\n",
    "    return Model(inputs=[i], outputs=[x])\n",
    "\n",
    "model = predictor()\n",
    "model.summary()"
   ]
  },
  {
   "cell_type": "code",
   "execution_count": 88,
   "id": "2bc9df06-28f9-42f0-91ee-966b03d6559d",
   "metadata": {
    "scrolled": true,
    "tags": []
   },
   "outputs": [
    {
     "name": "stdout",
     "output_type": "stream",
     "text": [
      "Epoch 1/50\n",
      "40/40 [==============================] - 5s 72ms/step - loss: 0.0461 - root_mean_squared_error: 0.2147 - val_loss: 0.0401 - val_root_mean_squared_error: 0.2003\n",
      "Epoch 2/50\n",
      "40/40 [==============================] - 3s 66ms/step - loss: 0.0391 - root_mean_squared_error: 0.1978 - val_loss: 0.0382 - val_root_mean_squared_error: 0.1955\n",
      "Epoch 3/50\n",
      "40/40 [==============================] - 3s 69ms/step - loss: 0.0379 - root_mean_squared_error: 0.1948 - val_loss: 0.0375 - val_root_mean_squared_error: 0.1937\n",
      "Epoch 4/50\n",
      "40/40 [==============================] - 2s 60ms/step - loss: 0.0375 - root_mean_squared_error: 0.1937 - val_loss: 0.0371 - val_root_mean_squared_error: 0.1926\n",
      "Epoch 5/50\n",
      "40/40 [==============================] - 2s 62ms/step - loss: 0.0372 - root_mean_squared_error: 0.1929 - val_loss: 0.0369 - val_root_mean_squared_error: 0.1922\n",
      "Epoch 6/50\n",
      "40/40 [==============================] - 2s 62ms/step - loss: 0.0371 - root_mean_squared_error: 0.1925 - val_loss: 0.0368 - val_root_mean_squared_error: 0.1919\n",
      "Epoch 7/50\n",
      "40/40 [==============================] - 2s 59ms/step - loss: 0.0370 - root_mean_squared_error: 0.1923 - val_loss: 0.0368 - val_root_mean_squared_error: 0.1919\n",
      "Epoch 8/50\n",
      "40/40 [==============================] - 2s 60ms/step - loss: 0.0369 - root_mean_squared_error: 0.1921 - val_loss: 0.0366 - val_root_mean_squared_error: 0.1913\n",
      "Epoch 9/50\n",
      "40/40 [==============================] - 3s 66ms/step - loss: 0.0354 - root_mean_squared_error: 0.1882 - val_loss: 0.0347 - val_root_mean_squared_error: 0.1863\n",
      "Epoch 10/50\n",
      "40/40 [==============================] - 3s 67ms/step - loss: 0.0346 - root_mean_squared_error: 0.1861 - val_loss: 0.0345 - val_root_mean_squared_error: 0.1858\n",
      "Epoch 11/50\n",
      "40/40 [==============================] - 2s 58ms/step - loss: 0.0345 - root_mean_squared_error: 0.1856 - val_loss: 0.0345 - val_root_mean_squared_error: 0.1858\n",
      "Epoch 12/50\n",
      "40/40 [==============================] - 3s 64ms/step - loss: 0.0345 - root_mean_squared_error: 0.1856 - val_loss: 0.0343 - val_root_mean_squared_error: 0.1853\n",
      "Epoch 13/50\n",
      "40/40 [==============================] - 3s 62ms/step - loss: 0.0343 - root_mean_squared_error: 0.1852 - val_loss: 0.0343 - val_root_mean_squared_error: 0.1851\n",
      "Epoch 14/50\n",
      "40/40 [==============================] - 3s 67ms/step - loss: 0.0343 - root_mean_squared_error: 0.1851 - val_loss: 0.0342 - val_root_mean_squared_error: 0.1849\n",
      "Epoch 15/50\n",
      "40/40 [==============================] - 3s 72ms/step - loss: 0.0342 - root_mean_squared_error: 0.1849 - val_loss: 0.0342 - val_root_mean_squared_error: 0.1850\n",
      "Epoch 16/50\n",
      "40/40 [==============================] - 3s 65ms/step - loss: 0.0342 - root_mean_squared_error: 0.1849 - val_loss: 0.0343 - val_root_mean_squared_error: 0.1851\n",
      "Epoch 17/50\n",
      "40/40 [==============================] - 3s 65ms/step - loss: 0.0342 - root_mean_squared_error: 0.1849 - val_loss: 0.0342 - val_root_mean_squared_error: 0.1849\n",
      "Epoch 18/50\n",
      "40/40 [==============================] - 3s 68ms/step - loss: 0.0341 - root_mean_squared_error: 0.1847 - val_loss: 0.0342 - val_root_mean_squared_error: 0.1849\n",
      "Epoch 19/50\n",
      "40/40 [==============================] - 3s 65ms/step - loss: 0.0342 - root_mean_squared_error: 0.1848 - val_loss: 0.0343 - val_root_mean_squared_error: 0.1852\n",
      "Epoch 20/50\n",
      "40/40 [==============================] - 2s 61ms/step - loss: 0.0342 - root_mean_squared_error: 0.1848 - val_loss: 0.0342 - val_root_mean_squared_error: 0.1848\n",
      "Epoch 21/50\n",
      "40/40 [==============================] - 2s 61ms/step - loss: 0.0341 - root_mean_squared_error: 0.1847 - val_loss: 0.0342 - val_root_mean_squared_error: 0.1850\n",
      "Epoch 22/50\n",
      "40/40 [==============================] - 2s 58ms/step - loss: 0.0341 - root_mean_squared_error: 0.1848 - val_loss: 0.0342 - val_root_mean_squared_error: 0.1849\n",
      "Epoch 23/50\n",
      "40/40 [==============================] - 2s 60ms/step - loss: 0.0341 - root_mean_squared_error: 0.1847 - val_loss: 0.0342 - val_root_mean_squared_error: 0.1848\n",
      "Epoch 24/50\n",
      "40/40 [==============================] - 3s 66ms/step - loss: 0.0341 - root_mean_squared_error: 0.1846 - val_loss: 0.0342 - val_root_mean_squared_error: 0.1849\n",
      "Epoch 25/50\n",
      "40/40 [==============================] - 3s 66ms/step - loss: 0.0341 - root_mean_squared_error: 0.1847 - val_loss: 0.0342 - val_root_mean_squared_error: 0.1849\n",
      "Epoch 26/50\n",
      "40/40 [==============================] - 3s 63ms/step - loss: 0.0341 - root_mean_squared_error: 0.1846 - val_loss: 0.0341 - val_root_mean_squared_error: 0.1848\n",
      "Epoch 27/50\n",
      "40/40 [==============================] - 3s 61ms/step - loss: 0.0341 - root_mean_squared_error: 0.1847 - val_loss: 0.0341 - val_root_mean_squared_error: 0.1848\n",
      "Epoch 28/50\n",
      "40/40 [==============================] - 2s 60ms/step - loss: 0.0341 - root_mean_squared_error: 0.1846 - val_loss: 0.0341 - val_root_mean_squared_error: 0.1847\n",
      "Epoch 29/50\n",
      "40/40 [==============================] - 2s 60ms/step - loss: 0.0341 - root_mean_squared_error: 0.1846 - val_loss: 0.0341 - val_root_mean_squared_error: 0.1847\n",
      "Epoch 30/50\n",
      "40/40 [==============================] - 3s 62ms/step - loss: 0.0341 - root_mean_squared_error: 0.1847 - val_loss: 0.0342 - val_root_mean_squared_error: 0.1850\n",
      "Epoch 31/50\n",
      "40/40 [==============================] - 2s 58ms/step - loss: 0.0342 - root_mean_squared_error: 0.1849 - val_loss: 0.0341 - val_root_mean_squared_error: 0.1847\n",
      "Epoch 32/50\n",
      "40/40 [==============================] - 2s 61ms/step - loss: 0.0341 - root_mean_squared_error: 0.1846 - val_loss: 0.0342 - val_root_mean_squared_error: 0.1849\n",
      "Epoch 33/50\n",
      "40/40 [==============================] - 2s 59ms/step - loss: 0.0341 - root_mean_squared_error: 0.1846 - val_loss: 0.0341 - val_root_mean_squared_error: 0.1848\n"
     ]
    }
   ],
   "source": [
    "early_stopping = EarlyStopping(monitor='val_loss', patience=5, restore_best_weights=True)\n",
    "opt = Adam(learning_rate=0.02)\n",
    "model.compile(loss='mean_squared_error', optimizer=opt, metrics=[RootMeanSquaredError()])\n",
    "hist = model.fit(X_train, y_train, batch_size=32, epochs=50, validation_data=(X_test, y_test), callbacks=[early_stopping])"
   ]
  },
  {
   "cell_type": "code",
   "execution_count": 89,
   "id": "c2938d83-6f4f-4a5c-bcf0-e3e219b00f17",
   "metadata": {},
   "outputs": [
    {
     "data": {
      "image/png": "[encoded data removed]",
      "text/plain": [
       "<Figure size 1200x600 with 1 Axes>"
      ]
     },
     "metadata": {},
     "output_type": "display_data"
    }
   ],
   "source": [
    "plt.figure(figsize=(12, 6))\n",
    "plt.plot(hist.history['loss'], label='Train Loss')\n",
    "plt.plot(hist.history['val_loss'], label='Validation Loss')\n",
    "plt.title('Model Loss')\n",
    "plt.xlabel('Epochs')\n",
    "plt.ylabel('Loss')\n",
    "plt.legend()\n",
    "\n",
    "plt.show()"
   ]
  },
  {
   "cell_type": "code",
   "execution_count": 91,
   "id": "ce42d545-e0a1-4356-88cf-4593eec138e8",
   "metadata": {},
   "outputs": [
    {
     "data": {
      "text/plain": [
       "((1791, 30), (1791, 30))"
      ]
     },
     "execution_count": 91,
     "metadata": {},
     "output_type": "execute_result"
    }
   ],
   "source": [
    "features.day.shape, features.month.shape"
   ]
  },
  {
   "cell_type": "code",
   "execution_count": 176,
   "id": "954a9a1e-1395-465f-af0b-1a364fdc0470",
   "metadata": {},
   "outputs": [
    {
     "name": "stdout",
     "output_type": "stream",
     "text": [
      "WARNING:tensorflow:Layer lstm_38 will not use cuDNN kernels since it doesn't meet the criteria. It will use a generic GPU kernel as fallback when running on GPU.\n",
      "Model: \"model_35\"\n",
      "__________________________________________________________________________________________________\n",
      " Layer (type)                   Output Shape         Param #     Connected to                     \n",
      "==================================================================================================\n",
      " input_134 (InputLayer)         [(None, 30)]         0           []                               \n",
      "                                                                                                  \n",
      " input_135 (InputLayer)         [(None, 30)]         0           []                               \n",
      "                                                                                                  \n",
      " input_133 (InputLayer)         [(None, 30, 31)]     0           []                               \n",
      "                                                                                                  \n",
      " embedding_52 (Embedding)       (None, 30, 12)       144         ['input_134[0][0]']              \n",
      "                                                                                                  \n",
      " embedding_53 (Embedding)       (None, 30, 7)        49          ['input_135[0][0]']              \n",
      "                                                                                                  \n",
      " concatenate_26 (Concatenate)   (None, 30, 50)       0           ['input_133[0][0]',              \n",
      "                                                                  'embedding_52[0][0]',           \n",
      "                                                                  'embedding_53[0][0]']           \n",
      "                                                                                                  \n",
      " lstm_38 (LSTM)                 (None, 31)           10168       ['concatenate_26[0][0]']         \n",
      "                                                                                                  \n",
      "==================================================================================================\n",
      "Total params: 10,361\n",
      "Trainable params: 10,361\n",
      "Non-trainable params: 0\n",
      "__________________________________________________________________________________________________\n"
     ]
    }
   ],
   "source": [
    "def predictor_v2():\n",
    "    i_seq = Input((30, 31))\n",
    "    i_month = Input((30))\n",
    "    i_day = Input((30))\n",
    "    \n",
    "    e_month = Embedding(12, 12)(i_month)\n",
    "    e_day = Embedding(7, 7)(i_day) \n",
    "    \n",
    "    i = Concatenate(axis = 2)([i_seq, e_month, e_day])\n",
    "    \n",
    "    \n",
    "    x = LSTM(31, activation='relu')(i)\n",
    "    return Model(inputs=[i_seq, i_day, i_month], outputs=[x])\n",
    "\n",
    "model = predictor_v2()\n",
    "model.summary()"
   ]
  },
  {
   "cell_type": "code",
   "execution_count": 177,
   "id": "2a3b6cb0-0454-434c-b78c-7018b7f095d6",
   "metadata": {},
   "outputs": [],
   "source": [
    "X_train, X_test, y_train, y_test, day_train, day_test, month_train, month_test =\\\n",
    "train_test_split(features.seq, features.lab, features.day, features.month, test_size=0.3)"
   ]
  },
  {
   "cell_type": "code",
   "execution_count": 178,
   "id": "ab083420-6106-4340-a56d-88c66b220c29",
   "metadata": {
    "scrolled": true,
    "tags": []
   },
   "outputs": [
    {
     "name": "stdout",
     "output_type": "stream",
     "text": [
      "Epoch 1/50\n",
      "40/40 [==============================] - 5s 77ms/step - loss: 0.1084 - root_mean_squared_error: 0.3292 - val_loss: 0.0483 - val_root_mean_squared_error: 0.2198\n",
      "Epoch 2/50\n",
      "40/40 [==============================] - 3s 67ms/step - loss: 0.0491 - root_mean_squared_error: 0.2215 - val_loss: 0.0478 - val_root_mean_squared_error: 0.2187\n",
      "Epoch 3/50\n",
      "40/40 [==============================] - 3s 67ms/step - loss: 0.0487 - root_mean_squared_error: 0.2208 - val_loss: 0.0477 - val_root_mean_squared_error: 0.2183\n",
      "Epoch 4/50\n",
      "40/40 [==============================] - 3s 68ms/step - loss: 0.0486 - root_mean_squared_error: 0.2205 - val_loss: 0.0476 - val_root_mean_squared_error: 0.2181\n",
      "Epoch 5/50\n",
      "40/40 [==============================] - 3s 67ms/step - loss: 0.0485 - root_mean_squared_error: 0.2203 - val_loss: 0.0475 - val_root_mean_squared_error: 0.2180\n",
      "Epoch 6/50\n",
      "40/40 [==============================] - 3s 68ms/step - loss: 0.0485 - root_mean_squared_error: 0.2202 - val_loss: 0.0474 - val_root_mean_squared_error: 0.2178\n",
      "Epoch 7/50\n",
      "40/40 [==============================] - 3s 70ms/step - loss: 0.0484 - root_mean_squared_error: 0.2201 - val_loss: 0.0473 - val_root_mean_squared_error: 0.2175\n",
      "Epoch 8/50\n",
      "40/40 [==============================] - 3s 68ms/step - loss: 0.0477 - root_mean_squared_error: 0.2185 - val_loss: 0.0460 - val_root_mean_squared_error: 0.2145\n",
      "Epoch 9/50\n",
      "40/40 [==============================] - 3s 65ms/step - loss: 0.0472 - root_mean_squared_error: 0.2172 - val_loss: 0.0457 - val_root_mean_squared_error: 0.2138\n",
      "Epoch 10/50\n",
      "40/40 [==============================] - 3s 67ms/step - loss: 0.0462 - root_mean_squared_error: 0.2150 - val_loss: 0.0438 - val_root_mean_squared_error: 0.2094\n",
      "Epoch 11/50\n",
      "40/40 [==============================] - 3s 68ms/step - loss: 0.0444 - root_mean_squared_error: 0.2107 - val_loss: 0.0425 - val_root_mean_squared_error: 0.2062\n",
      "Epoch 12/50\n",
      "40/40 [==============================] - 3s 69ms/step - loss: 0.0436 - root_mean_squared_error: 0.2089 - val_loss: 0.0421 - val_root_mean_squared_error: 0.2051\n",
      "Epoch 13/50\n",
      "40/40 [==============================] - 3s 69ms/step - loss: 0.0432 - root_mean_squared_error: 0.2079 - val_loss: 0.0415 - val_root_mean_squared_error: 0.2038\n",
      "Epoch 14/50\n",
      "40/40 [==============================] - 3s 67ms/step - loss: 0.0427 - root_mean_squared_error: 0.2067 - val_loss: 0.0412 - val_root_mean_squared_error: 0.2030\n",
      "Epoch 15/50\n",
      "40/40 [==============================] - 3s 69ms/step - loss: 0.0424 - root_mean_squared_error: 0.2060 - val_loss: 0.0410 - val_root_mean_squared_error: 0.2025\n",
      "Epoch 16/50\n",
      "40/40 [==============================] - 3s 70ms/step - loss: 0.0422 - root_mean_squared_error: 0.2054 - val_loss: 0.0407 - val_root_mean_squared_error: 0.2018\n",
      "Epoch 17/50\n",
      "40/40 [==============================] - 3s 68ms/step - loss: 0.0420 - root_mean_squared_error: 0.2048 - val_loss: 0.0405 - val_root_mean_squared_error: 0.2013\n",
      "Epoch 18/50\n",
      "40/40 [==============================] - 3s 67ms/step - loss: 0.0418 - root_mean_squared_error: 0.2044 - val_loss: 0.0404 - val_root_mean_squared_error: 0.2011\n",
      "Epoch 19/50\n",
      "40/40 [==============================] - 3s 73ms/step - loss: 0.0417 - root_mean_squared_error: 0.2042 - val_loss: 0.0403 - val_root_mean_squared_error: 0.2008\n",
      "Epoch 20/50\n",
      "40/40 [==============================] - 3s 68ms/step - loss: 0.0415 - root_mean_squared_error: 0.2038 - val_loss: 0.0402 - val_root_mean_squared_error: 0.2005\n",
      "Epoch 21/50\n",
      "40/40 [==============================] - 3s 69ms/step - loss: 0.0414 - root_mean_squared_error: 0.2035 - val_loss: 0.0401 - val_root_mean_squared_error: 0.2003\n",
      "Epoch 22/50\n",
      "40/40 [==============================] - 3s 69ms/step - loss: 0.0414 - root_mean_squared_error: 0.2034 - val_loss: 0.0401 - val_root_mean_squared_error: 0.2002\n",
      "Epoch 23/50\n",
      "40/40 [==============================] - 3s 70ms/step - loss: 0.0413 - root_mean_squared_error: 0.2032 - val_loss: 0.0401 - val_root_mean_squared_error: 0.2003\n",
      "Epoch 24/50\n",
      "40/40 [==============================] - 3s 71ms/step - loss: 0.0412 - root_mean_squared_error: 0.2030 - val_loss: 0.0399 - val_root_mean_squared_error: 0.1999\n",
      "Epoch 25/50\n",
      "40/40 [==============================] - 3s 68ms/step - loss: 0.0411 - root_mean_squared_error: 0.2027 - val_loss: 0.0399 - val_root_mean_squared_error: 0.1997\n",
      "Epoch 26/50\n",
      "40/40 [==============================] - 3s 75ms/step - loss: 0.0410 - root_mean_squared_error: 0.2025 - val_loss: 0.0398 - val_root_mean_squared_error: 0.1996\n",
      "Epoch 27/50\n",
      "40/40 [==============================] - 3s 68ms/step - loss: 0.0409 - root_mean_squared_error: 0.2023 - val_loss: 0.0398 - val_root_mean_squared_error: 0.1994\n",
      "Epoch 28/50\n",
      "40/40 [==============================] - 3s 69ms/step - loss: 0.0409 - root_mean_squared_error: 0.2022 - val_loss: 0.0397 - val_root_mean_squared_error: 0.1992\n",
      "Epoch 29/50\n",
      "40/40 [==============================] - 3s 70ms/step - loss: 0.0408 - root_mean_squared_error: 0.2020 - val_loss: 0.0396 - val_root_mean_squared_error: 0.1991\n",
      "Epoch 30/50\n",
      "40/40 [==============================] - 3s 68ms/step - loss: 0.0407 - root_mean_squared_error: 0.2018 - val_loss: 0.0395 - val_root_mean_squared_error: 0.1988\n",
      "Epoch 31/50\n",
      "40/40 [==============================] - 3s 68ms/step - loss: 0.0407 - root_mean_squared_error: 0.2016 - val_loss: 0.0396 - val_root_mean_squared_error: 0.1989\n",
      "Epoch 32/50\n",
      "40/40 [==============================] - 3s 67ms/step - loss: 0.0406 - root_mean_squared_error: 0.2015 - val_loss: 0.0394 - val_root_mean_squared_error: 0.1986\n",
      "Epoch 33/50\n",
      "40/40 [==============================] - 3s 74ms/step - loss: 0.0405 - root_mean_squared_error: 0.2014 - val_loss: 0.0395 - val_root_mean_squared_error: 0.1988\n",
      "Epoch 34/50\n",
      "40/40 [==============================] - 3s 69ms/step - loss: 0.0405 - root_mean_squared_error: 0.2013 - val_loss: 0.0394 - val_root_mean_squared_error: 0.1985\n",
      "Epoch 35/50\n",
      "40/40 [==============================] - 3s 68ms/step - loss: 0.0401 - root_mean_squared_error: 0.2004 - val_loss: 0.0388 - val_root_mean_squared_error: 0.1969\n",
      "Epoch 36/50\n",
      "40/40 [==============================] - 3s 67ms/step - loss: 0.0396 - root_mean_squared_error: 0.1989 - val_loss: 0.0385 - val_root_mean_squared_error: 0.1963\n",
      "Epoch 37/50\n",
      "40/40 [==============================] - 3s 69ms/step - loss: 0.0393 - root_mean_squared_error: 0.1984 - val_loss: 0.0384 - val_root_mean_squared_error: 0.1959\n",
      "Epoch 38/50\n",
      "40/40 [==============================] - 3s 68ms/step - loss: 0.0393 - root_mean_squared_error: 0.1981 - val_loss: 0.0383 - val_root_mean_squared_error: 0.1957\n",
      "Epoch 39/50\n",
      "40/40 [==============================] - 3s 66ms/step - loss: 0.0392 - root_mean_squared_error: 0.1979 - val_loss: 0.0382 - val_root_mean_squared_error: 0.1955\n",
      "Epoch 40/50\n",
      "40/40 [==============================] - 3s 68ms/step - loss: 0.0391 - root_mean_squared_error: 0.1978 - val_loss: 0.0382 - val_root_mean_squared_error: 0.1954\n",
      "Epoch 41/50\n",
      "40/40 [==============================] - 3s 68ms/step - loss: 0.0391 - root_mean_squared_error: 0.1977 - val_loss: 0.0382 - val_root_mean_squared_error: 0.1954\n",
      "Epoch 42/50\n",
      "40/40 [==============================] - 3s 68ms/step - loss: 0.0391 - root_mean_squared_error: 0.1977 - val_loss: 0.0382 - val_root_mean_squared_error: 0.1953\n",
      "Epoch 43/50\n",
      "40/40 [==============================] - 3s 67ms/step - loss: 0.0390 - root_mean_squared_error: 0.1975 - val_loss: 0.0382 - val_root_mean_squared_error: 0.1954\n",
      "Epoch 44/50\n",
      "40/40 [==============================] - 3s 66ms/step - loss: 0.0390 - root_mean_squared_error: 0.1974 - val_loss: 0.0381 - val_root_mean_squared_error: 0.1951\n",
      "Epoch 45/50\n",
      "40/40 [==============================] - 3s 70ms/step - loss: 0.0390 - root_mean_squared_error: 0.1974 - val_loss: 0.0381 - val_root_mean_squared_error: 0.1951\n",
      "Epoch 46/50\n",
      "40/40 [==============================] - 3s 70ms/step - loss: 0.0389 - root_mean_squared_error: 0.1973 - val_loss: 0.0381 - val_root_mean_squared_error: 0.1951\n",
      "Epoch 47/50\n",
      "40/40 [==============================] - 3s 71ms/step - loss: 0.0389 - root_mean_squared_error: 0.1973 - val_loss: 0.0380 - val_root_mean_squared_error: 0.1949\n",
      "Epoch 48/50\n",
      "40/40 [==============================] - 3s 70ms/step - loss: 0.0389 - root_mean_squared_error: 0.1972 - val_loss: 0.0380 - val_root_mean_squared_error: 0.1950\n",
      "Epoch 49/50\n",
      "40/40 [==============================] - 3s 66ms/step - loss: 0.0388 - root_mean_squared_error: 0.1971 - val_loss: 0.0379 - val_root_mean_squared_error: 0.1948\n",
      "Epoch 50/50\n",
      "40/40 [==============================] - 3s 73ms/step - loss: 0.0388 - root_mean_squared_error: 0.1971 - val_loss: 0.0380 - val_root_mean_squared_error: 0.1949\n"
     ]
    }
   ],
   "source": [
    "early_stopping = EarlyStopping(monitor='val_loss', patience=5, restore_best_weights=True)\n",
    "opt = Adam(learning_rate=0.02)\n",
    "model.compile(loss='mean_squared_error', optimizer=opt, metrics=[RootMeanSquaredError()])\n",
    "hist = model.fit([X_train, day_train, month_train], y_train, batch_size=32, epochs=50, validation_data=([X_test, day_test, month_test], y_test), callbacks=[early_stopping])"
   ]
  },
  {
   "cell_type": "code",
   "execution_count": 180,
   "id": "7fb8d060-2151-4e65-85a6-7b17b7c59262",
   "metadata": {},
   "outputs": [
    {
     "data": {
      "image/png": "[encoded data removed]",
      "text/plain": [
       "<Figure size 1200x600 with 1 Axes>"
      ]
     },
     "metadata": {},
     "output_type": "display_data"
    }
   ],
   "source": [
    "plt.figure(figsize=(12, 6))\n",
    "# plt.plot(hist.history['loss'], label='Train Loss')\n",
    "plt.plot(hist.history['val_loss'], label='Validation Loss')\n",
    "plt.title('Model Loss')\n",
    "plt.xlabel('Epochs')\n",
    "plt.ylabel('Loss')\n",
    "plt.legend()\n",
    "\n",
    "plt.show()"
   ]
  },
  {
   "cell_type": "code",
   "execution_count": 169,
   "id": "9bbdff47-8f8e-4646-baef-34bf54e625c9",
   "metadata": {},
   "outputs": [
    {
     "name": "stdout",
     "output_type": "stream",
     "text": [
      "WARNING:tensorflow:Layer lstm_35 will not use cuDNN kernels since it doesn't meet the criteria. It will use a generic GPU kernel as fallback when running on GPU.\n",
      "Model: \"model_33\"\n",
      "__________________________________________________________________________________________________\n",
      " Layer (type)                   Output Shape         Param #     Connected to                     \n",
      "==================================================================================================\n",
      " input_128 (InputLayer)         [(None, 30)]         0           []                               \n",
      "                                                                                                  \n",
      " input_129 (InputLayer)         [(None, 30)]         0           []                               \n",
      "                                                                                                  \n",
      " input_127 (InputLayer)         [(None, 30, 31)]     0           []                               \n",
      "                                                                                                  \n",
      " embedding_48 (Embedding)       (None, 30, 12)       144         ['input_128[0][0]']              \n",
      "                                                                                                  \n",
      " embedding_49 (Embedding)       (None, 30, 7)        49          ['input_129[0][0]']              \n",
      "                                                                                                  \n",
      " concatenate_24 (Concatenate)   (None, 30, 50)       0           ['input_127[0][0]',              \n",
      "                                                                  'embedding_48[0][0]',           \n",
      "                                                                  'embedding_49[0][0]']           \n",
      "                                                                                                  \n",
      " bidirectional_2 (Bidirectional  (None, 30, 256)     183296      ['concatenate_24[0][0]']         \n",
      " )                                                                                                \n",
      "                                                                                                  \n",
      " lstm_35 (LSTM)                 (None, 31)           35712       ['bidirectional_2[0][0]']        \n",
      "                                                                                                  \n",
      "==================================================================================================\n",
      "Total params: 219,201\n",
      "Trainable params: 219,201\n",
      "Non-trainable params: 0\n",
      "__________________________________________________________________________________________________\n"
     ]
    }
   ],
   "source": [
    "def predictor_v2_2():\n",
    "    i_seq = Input((30, 31))\n",
    "    i_month = Input((30))\n",
    "    i_day = Input((30))\n",
    "    \n",
    "    e_month = Embedding(12, 12)(i_month)\n",
    "    e_day = Embedding(7, 7)(i_day) \n",
    "    \n",
    "    i = Concatenate(axis = 2)([i_seq, e_month, e_day])\n",
    "    \n",
    "    \n",
    "    x = Bidirectional(LSTM(128, return_sequences=True))(i)\n",
    "    x = LSTM(31, activation='relu')(x)\n",
    "    return Model(inputs=[i_seq, i_day, i_month], outputs=[x])\n",
    "\n",
    "\n",
    "model = predictor_v2_2()\n",
    "model.summary()"
   ]
  },
  {
   "cell_type": "code",
   "execution_count": 170,
   "id": "3d2ec721-4bec-4585-b427-41e3155cfe06",
   "metadata": {},
   "outputs": [],
   "source": [
    "X_train, X_test, y_train, y_test, day_train, day_test, month_train, month_test =\\\n",
    "train_test_split(features.seq, features.lab, features.day, features.month, test_size=0.3)"
   ]
  },
  {
   "cell_type": "code",
   "execution_count": 171,
   "id": "6c5a0a0c-00cc-4bf9-a4be-fa7183a41938",
   "metadata": {
    "scrolled": true,
    "tags": []
   },
   "outputs": [
    {
     "name": "stdout",
     "output_type": "stream",
     "text": [
      "Epoch 1/50\n",
      "40/40 [==============================] - 12s 116ms/step - loss: 641753.6875 - root_mean_squared_error: 801.0953 - val_loss: 0.1673 - val_root_mean_squared_error: 0.4090\n",
      "Epoch 2/50\n",
      "40/40 [==============================] - 3s 82ms/step - loss: 0.1208 - root_mean_squared_error: 0.3475 - val_loss: 0.0943 - val_root_mean_squared_error: 0.3071\n",
      "Epoch 3/50\n",
      "40/40 [==============================] - 3s 74ms/step - loss: 0.0886 - root_mean_squared_error: 0.2977 - val_loss: 0.0825 - val_root_mean_squared_error: 0.2873\n",
      "Epoch 4/50\n",
      "40/40 [==============================] - 3s 72ms/step - loss: 0.0972 - root_mean_squared_error: 0.3118 - val_loss: 0.0815 - val_root_mean_squared_error: 0.2855\n",
      "Epoch 5/50\n",
      "40/40 [==============================] - 3s 79ms/step - loss: 0.0828 - root_mean_squared_error: 0.2877 - val_loss: 0.0802 - val_root_mean_squared_error: 0.2831\n",
      "Epoch 6/50\n",
      "40/40 [==============================] - 3s 77ms/step - loss: 0.0804 - root_mean_squared_error: 0.2836 - val_loss: 0.0782 - val_root_mean_squared_error: 0.2797\n",
      "Epoch 7/50\n",
      "40/40 [==============================] - 3s 74ms/step - loss: 0.0786 - root_mean_squared_error: 0.2804 - val_loss: 0.0768 - val_root_mean_squared_error: 0.2772\n",
      "Epoch 8/50\n",
      "40/40 [==============================] - 3s 73ms/step - loss: 0.0772 - root_mean_squared_error: 0.2779 - val_loss: 0.0757 - val_root_mean_squared_error: 0.2751\n",
      "Epoch 9/50\n",
      "40/40 [==============================] - 3s 78ms/step - loss: 0.0761 - root_mean_squared_error: 0.2758 - val_loss: 0.0747 - val_root_mean_squared_error: 0.2733\n",
      "Epoch 10/50\n",
      "40/40 [==============================] - 3s 73ms/step - loss: 0.0751 - root_mean_squared_error: 0.2740 - val_loss: 0.0738 - val_root_mean_squared_error: 0.2716\n",
      "Epoch 11/50\n",
      "40/40 [==============================] - 3s 73ms/step - loss: 0.0741 - root_mean_squared_error: 0.2723 - val_loss: 0.0729 - val_root_mean_squared_error: 0.2701\n",
      "Epoch 12/50\n",
      "40/40 [==============================] - 3s 78ms/step - loss: 0.0733 - root_mean_squared_error: 0.2707 - val_loss: 0.0721 - val_root_mean_squared_error: 0.2685\n",
      "Epoch 13/50\n",
      "40/40 [==============================] - 3s 75ms/step - loss: 0.0724 - root_mean_squared_error: 0.2691 - val_loss: 0.0713 - val_root_mean_squared_error: 0.2669\n",
      "Epoch 14/50\n",
      "40/40 [==============================] - 3s 73ms/step - loss: 0.0715 - root_mean_squared_error: 0.2674 - val_loss: 0.0704 - val_root_mean_squared_error: 0.2653\n",
      "Epoch 15/50\n",
      "40/40 [==============================] - 3s 74ms/step - loss: 0.0706 - root_mean_squared_error: 0.2657 - val_loss: 0.0695 - val_root_mean_squared_error: 0.2636\n",
      "Epoch 16/50\n",
      "40/40 [==============================] - 3s 78ms/step - loss: 0.0696 - root_mean_squared_error: 0.2637 - val_loss: 0.0685 - val_root_mean_squared_error: 0.2617\n",
      "Epoch 17/50\n",
      "40/40 [==============================] - 3s 81ms/step - loss: 0.0684 - root_mean_squared_error: 0.2615 - val_loss: 0.0673 - val_root_mean_squared_error: 0.2594\n",
      "Epoch 18/50\n",
      "40/40 [==============================] - 3s 76ms/step - loss: 0.0670 - root_mean_squared_error: 0.2588 - val_loss: 0.0658 - val_root_mean_squared_error: 0.2566\n",
      "Epoch 19/50\n",
      "40/40 [==============================] - 3s 75ms/step - loss: 0.0653 - root_mean_squared_error: 0.2556 - val_loss: 0.0642 - val_root_mean_squared_error: 0.2534\n",
      "Epoch 20/50\n",
      "40/40 [==============================] - 3s 76ms/step - loss: 0.0634 - root_mean_squared_error: 0.2519 - val_loss: 0.0624 - val_root_mean_squared_error: 0.2499\n",
      "Epoch 21/50\n",
      "40/40 [==============================] - 3s 74ms/step - loss: 0.0616 - root_mean_squared_error: 0.2481 - val_loss: 0.0607 - val_root_mean_squared_error: 0.2463\n",
      "Epoch 22/50\n",
      "40/40 [==============================] - 3s 75ms/step - loss: 0.0598 - root_mean_squared_error: 0.2446 - val_loss: 0.0590 - val_root_mean_squared_error: 0.2429\n",
      "Epoch 23/50\n",
      "40/40 [==============================] - 3s 73ms/step - loss: 0.0583 - root_mean_squared_error: 0.2414 - val_loss: 0.0576 - val_root_mean_squared_error: 0.2399\n",
      "Epoch 24/50\n",
      "40/40 [==============================] - 3s 75ms/step - loss: 0.0568 - root_mean_squared_error: 0.2383 - val_loss: 0.0562 - val_root_mean_squared_error: 0.2371\n",
      "Epoch 25/50\n",
      "40/40 [==============================] - 3s 77ms/step - loss: 0.0555 - root_mean_squared_error: 0.2355 - val_loss: 0.0550 - val_root_mean_squared_error: 0.2345\n",
      "Epoch 26/50\n",
      "40/40 [==============================] - 3s 75ms/step - loss: 0.0543 - root_mean_squared_error: 0.2331 - val_loss: 0.0540 - val_root_mean_squared_error: 0.2323\n",
      "Epoch 27/50\n",
      "40/40 [==============================] - 3s 77ms/step - loss: 0.0532 - root_mean_squared_error: 0.2306 - val_loss: 0.0529 - val_root_mean_squared_error: 0.2301\n",
      "Epoch 28/50\n",
      "40/40 [==============================] - 3s 76ms/step - loss: 0.0522 - root_mean_squared_error: 0.2286 - val_loss: 0.0520 - val_root_mean_squared_error: 0.2281\n",
      "Epoch 29/50\n",
      "40/40 [==============================] - 3s 78ms/step - loss: 0.0514 - root_mean_squared_error: 0.2267 - val_loss: 0.0513 - val_root_mean_squared_error: 0.2264\n",
      "Epoch 30/50\n",
      "40/40 [==============================] - 3s 74ms/step - loss: 0.0506 - root_mean_squared_error: 0.2250 - val_loss: 0.0506 - val_root_mean_squared_error: 0.2249\n",
      "Epoch 31/50\n",
      "40/40 [==============================] - 3s 73ms/step - loss: 0.0499 - root_mean_squared_error: 0.2234 - val_loss: 0.0498 - val_root_mean_squared_error: 0.2233\n",
      "Epoch 32/50\n",
      "40/40 [==============================] - 3s 78ms/step - loss: 0.0493 - root_mean_squared_error: 0.2219 - val_loss: 0.0493 - val_root_mean_squared_error: 0.2220\n",
      "Epoch 33/50\n",
      "40/40 [==============================] - 3s 77ms/step - loss: 0.0487 - root_mean_squared_error: 0.2206 - val_loss: 0.0487 - val_root_mean_squared_error: 0.2207\n",
      "Epoch 34/50\n",
      "40/40 [==============================] - 3s 74ms/step - loss: 0.0481 - root_mean_squared_error: 0.2193 - val_loss: 0.0482 - val_root_mean_squared_error: 0.2195\n",
      "Epoch 35/50\n",
      "40/40 [==============================] - 3s 72ms/step - loss: 0.0476 - root_mean_squared_error: 0.2181 - val_loss: 0.0478 - val_root_mean_squared_error: 0.2186\n",
      "Epoch 36/50\n",
      "40/40 [==============================] - 3s 76ms/step - loss: 0.0471 - root_mean_squared_error: 0.2170 - val_loss: 0.0473 - val_root_mean_squared_error: 0.2175\n",
      "Epoch 37/50\n",
      "40/40 [==============================] - 3s 72ms/step - loss: 0.0467 - root_mean_squared_error: 0.2160 - val_loss: 0.0469 - val_root_mean_squared_error: 0.2166\n",
      "Epoch 38/50\n",
      "40/40 [==============================] - 3s 78ms/step - loss: 0.0463 - root_mean_squared_error: 0.2151 - val_loss: 0.0466 - val_root_mean_squared_error: 0.2159\n",
      "Epoch 39/50\n",
      "40/40 [==============================] - 3s 73ms/step - loss: 0.0459 - root_mean_squared_error: 0.2144 - val_loss: 0.0462 - val_root_mean_squared_error: 0.2149\n",
      "Epoch 40/50\n",
      "40/40 [==============================] - 3s 72ms/step - loss: 0.0455 - root_mean_squared_error: 0.2134 - val_loss: 0.0459 - val_root_mean_squared_error: 0.2142\n",
      "Epoch 41/50\n",
      "40/40 [==============================] - 3s 74ms/step - loss: 0.0452 - root_mean_squared_error: 0.2126 - val_loss: 0.0455 - val_root_mean_squared_error: 0.2134\n",
      "Epoch 42/50\n",
      "40/40 [==============================] - 3s 79ms/step - loss: 0.0448 - root_mean_squared_error: 0.2117 - val_loss: 0.0452 - val_root_mean_squared_error: 0.2127\n",
      "Epoch 43/50\n",
      "40/40 [==============================] - 3s 74ms/step - loss: 0.0445 - root_mean_squared_error: 0.2110 - val_loss: 0.0450 - val_root_mean_squared_error: 0.2120\n",
      "Epoch 44/50\n",
      "40/40 [==============================] - 3s 74ms/step - loss: 0.0442 - root_mean_squared_error: 0.2102 - val_loss: 0.0442 - val_root_mean_squared_error: 0.2103\n",
      "Epoch 45/50\n",
      "40/40 [==============================] - 3s 77ms/step - loss: 0.0431 - root_mean_squared_error: 0.2076 - val_loss: 0.0432 - val_root_mean_squared_error: 0.2079\n",
      "Epoch 46/50\n",
      "40/40 [==============================] - 3s 73ms/step - loss: 0.0426 - root_mean_squared_error: 0.2064 - val_loss: 0.0429 - val_root_mean_squared_error: 0.2071\n",
      "Epoch 47/50\n",
      "40/40 [==============================] - 3s 74ms/step - loss: 0.0422 - root_mean_squared_error: 0.2055 - val_loss: 0.0426 - val_root_mean_squared_error: 0.2063\n",
      "Epoch 48/50\n",
      "40/40 [==============================] - 3s 74ms/step - loss: 0.0419 - root_mean_squared_error: 0.2046 - val_loss: 0.0424 - val_root_mean_squared_error: 0.2059\n",
      "Epoch 49/50\n",
      "40/40 [==============================] - 3s 75ms/step - loss: 0.0416 - root_mean_squared_error: 0.2039 - val_loss: 0.0422 - val_root_mean_squared_error: 0.2055\n",
      "Epoch 50/50\n",
      "40/40 [==============================] - 3s 75ms/step - loss: 0.0414 - root_mean_squared_error: 0.2035 - val_loss: 0.0417 - val_root_mean_squared_error: 0.2042\n"
     ]
    }
   ],
   "source": [
    "early_stopping = EarlyStopping(monitor='val_loss', patience=5, restore_best_weights=True)\n",
    "opt = Adam(learning_rate=0.02)\n",
    "model.compile(loss='mean_squared_error', optimizer=opt, metrics=[RootMeanSquaredError()])\n",
    "hist = model.fit([X_train, day_train, month_train], y_train, batch_size=32, epochs=50, validation_data=([X_test, day_test, month_test], y_test), callbacks=[early_stopping])"
   ]
  },
  {
   "cell_type": "code",
   "execution_count": 173,
   "id": "f7e028dc-8c3c-4dcc-8234-d8b004481905",
   "metadata": {},
   "outputs": [
    {
     "data": {
      "image/png": "[encoded data removed]",
      "text/plain": [
       "<Figure size 1200x600 with 1 Axes>"
      ]
     },
     "metadata": {},
     "output_type": "display_data"
    }
   ],
   "source": [
    "plt.figure(figsize=(12, 6))\n",
    "#plt.plot(hist.history['loss'], label='Train Loss')\n",
    "plt.plot(hist.history['val_loss'], label='Validation Loss')\n",
    "plt.title('Model Loss')\n",
    "plt.xlabel('Epochs')\n",
    "plt.ylabel('Loss')\n",
    "plt.legend()\n",
    "\n",
    "plt.show()"
   ]
  },
  {
   "cell_type": "code",
   "execution_count": 111,
   "id": "a8605ab6-446f-43b5-9dd8-3a152204eb44",
   "metadata": {},
   "outputs": [
    {
     "data": {
      "text/plain": [
       "(1761, 30, 15, 31)"
      ]
     },
     "execution_count": 111,
     "metadata": {},
     "output_type": "execute_result"
    }
   ],
   "source": [
    "features.spec.shape"
   ]
  },
  {
   "cell_type": "code",
   "execution_count": 161,
   "id": "e91275ca-f7cd-4cb4-b0d8-5c25a2702f2f",
   "metadata": {},
   "outputs": [
    {
     "name": "stdout",
     "output_type": "stream",
     "text": [
      "WARNING:tensorflow:Layer lstm_30 will not use cuDNN kernels since it doesn't meet the criteria. It will use a generic GPU kernel as fallback when running on GPU.\n",
      "Model: \"model_30\"\n",
      "__________________________________________________________________________________________________\n",
      " Layer (type)                   Output Shape         Param #     Connected to                     \n",
      "==================================================================================================\n",
      " input_120 (InputLayer)         [(None, 30, 15, 31)  0           []                               \n",
      "                                ]                                                                 \n",
      "                                                                                                  \n",
      " batch_normalization_3 (BatchNo  (None, 30, 15, 31)  124         ['input_120[0][0]']              \n",
      " rmalization)                                                                                     \n",
      "                                                                                                  \n",
      " conv2d_15 (Conv2D)             (None, 30, 15, 128)  416768      ['batch_normalization_3[0][0]']  \n",
      "                                                                                                  \n",
      " input_118 (InputLayer)         [(None, 30)]         0           []                               \n",
      "                                                                                                  \n",
      " input_119 (InputLayer)         [(None, 30)]         0           []                               \n",
      "                                                                                                  \n",
      " max_pooling2d_13 (MaxPooling2D  (None, 30, 1, 128)  0           ['conv2d_15[0][0]']              \n",
      " )                                                                                                \n",
      "                                                                                                  \n",
      " input_117 (InputLayer)         [(None, 30, 31)]     0           []                               \n",
      "                                                                                                  \n",
      " embedding_42 (Embedding)       (None, 30, 12)       144         ['input_118[0][0]']              \n",
      "                                                                                                  \n",
      " embedding_43 (Embedding)       (None, 30, 7)        49          ['input_119[0][0]']              \n",
      "                                                                                                  \n",
      " reshape_10 (Reshape)           (None, 30, 128)      0           ['max_pooling2d_13[0][0]']       \n",
      "                                                                                                  \n",
      " concatenate_21 (Concatenate)   (None, 30, 178)      0           ['input_117[0][0]',              \n",
      "                                                                  'embedding_42[0][0]',           \n",
      "                                                                  'embedding_43[0][0]',           \n",
      "                                                                  'reshape_10[0][0]']             \n",
      "                                                                                                  \n",
      " lstm_30 (LSTM)                 (None, 31)           26040       ['concatenate_21[0][0]']         \n",
      "                                                                                                  \n",
      "==================================================================================================\n",
      "Total params: 443,125\n",
      "Trainable params: 443,063\n",
      "Non-trainable params: 62\n",
      "__________________________________________________________________________________________________\n"
     ]
    }
   ],
   "source": [
    "def predictor_v3():\n",
    "    i_seq = Input((30, 31))\n",
    "    i_month = Input((30))\n",
    "    i_day = Input((30))\n",
    "    i_spec = Input((30, 15, 31))\n",
    "    \n",
    "    c_spec = BatchNormalization()(i_spec)\n",
    "    c_spec = Convolution2D(128, kernel_size=(7, 15), padding='same')(c_spec)\n",
    "    c_spec = MaxPool2D((1, 15))(c_spec)\n",
    "    c_spec = Reshape((30, 128))(c_spec)\n",
    "    \n",
    "    e_month = Embedding(12, 12)(i_month)\n",
    "    e_day = Embedding(7, 7)(i_day) \n",
    "    \n",
    "    i = Concatenate(axis = 2)([i_seq, e_month, e_day, c_spec])\n",
    "    \n",
    "    \n",
    "    x = LSTM(31, activation='relu')(i)\n",
    "    return Model(inputs=[i_seq, i_day, i_month, i_spec], outputs=[x])\n",
    "\n",
    "model = predictor_v3()\n",
    "model.summary()"
   ]
  },
  {
   "cell_type": "code",
   "execution_count": 162,
   "id": "703ee564-7c53-45bd-8b01-be2d9788e87b",
   "metadata": {},
   "outputs": [],
   "source": [
    "n = features.spec.shape[0]"
   ]
  },
  {
   "cell_type": "code",
   "execution_count": 163,
   "id": "74cfe9fb-8465-4777-82b3-e4b8f45a0e78",
   "metadata": {},
   "outputs": [],
   "source": [
    "X_train, X_test, y_train, y_test, day_train, day_test, month_train, month_test, spec_train, spec_test =\\\n",
    "train_test_split(features.seq[:n], features.lab[:n], features.day[:n], features.month[:n], features.spec, test_size=0.3)"
   ]
  },
  {
   "cell_type": "code",
   "execution_count": 164,
   "id": "13c1b800-e6a5-4438-beb4-0468d5ebe133",
   "metadata": {},
   "outputs": [
    {
     "data": {
      "text/plain": [
       "((1232, 30, 31), (1232, 30), (1232, 30), (1232, 30, 15, 31))"
      ]
     },
     "execution_count": 164,
     "metadata": {},
     "output_type": "execute_result"
    }
   ],
   "source": [
    "X_train.shape, month_train.shape, day_train.shape, spec_train.shape"
   ]
  },
  {
   "cell_type": "code",
   "execution_count": 165,
   "id": "40062ea6-4bdf-4bda-93a5-6bac244ed517",
   "metadata": {
    "scrolled": true,
    "tags": []
   },
   "outputs": [
    {
     "name": "stdout",
     "output_type": "stream",
     "text": [
      "Epoch 1/50\n",
      "39/39 [==============================] - 6s 92ms/step - loss: 28554.9512 - root_mean_squared_error: 168.9821 - val_loss: 7043.9155 - val_root_mean_squared_error: 83.9280\n",
      "Epoch 2/50\n",
      "39/39 [==============================] - 3s 73ms/step - loss: 24067.0117 - root_mean_squared_error: 155.1355 - val_loss: 6402.9634 - val_root_mean_squared_error: 80.0185\n",
      "Epoch 3/50\n",
      "39/39 [==============================] - 3s 78ms/step - loss: 11597.4639 - root_mean_squared_error: 107.6915 - val_loss: 1953.9220 - val_root_mean_squared_error: 44.2032\n",
      "Epoch 4/50\n",
      "39/39 [==============================] - 3s 76ms/step - loss: 1248.8240 - root_mean_squared_error: 35.3387 - val_loss: 7.1831 - val_root_mean_squared_error: 2.6801\n",
      "Epoch 5/50\n",
      "39/39 [==============================] - 3s 75ms/step - loss: 3.9960 - root_mean_squared_error: 1.9990 - val_loss: 0.5690 - val_root_mean_squared_error: 0.7543\n",
      "Epoch 6/50\n",
      "39/39 [==============================] - 3s 75ms/step - loss: 1.5684 - root_mean_squared_error: 1.2523 - val_loss: 0.3712 - val_root_mean_squared_error: 0.6093\n",
      "Epoch 7/50\n",
      "39/39 [==============================] - 3s 82ms/step - loss: 1.3131 - root_mean_squared_error: 1.1459 - val_loss: 0.2959 - val_root_mean_squared_error: 0.5440\n",
      "Epoch 8/50\n",
      "39/39 [==============================] - 3s 75ms/step - loss: 1.0601 - root_mean_squared_error: 1.0296 - val_loss: 0.2534 - val_root_mean_squared_error: 0.5034\n",
      "Epoch 9/50\n",
      "39/39 [==============================] - 3s 73ms/step - loss: 0.7787 - root_mean_squared_error: 0.8824 - val_loss: 0.2352 - val_root_mean_squared_error: 0.4850\n",
      "Epoch 10/50\n",
      "39/39 [==============================] - 3s 75ms/step - loss: 0.6025 - root_mean_squared_error: 0.7762 - val_loss: 0.2282 - val_root_mean_squared_error: 0.4777\n",
      "Epoch 11/50\n",
      "39/39 [==============================] - 3s 75ms/step - loss: 0.5178 - root_mean_squared_error: 0.7196 - val_loss: 0.2231 - val_root_mean_squared_error: 0.4723\n",
      "Epoch 12/50\n",
      "39/39 [==============================] - 3s 76ms/step - loss: 0.4259 - root_mean_squared_error: 0.6526 - val_loss: 0.2100 - val_root_mean_squared_error: 0.4582\n",
      "Epoch 13/50\n",
      "39/39 [==============================] - 3s 75ms/step - loss: 0.4335 - root_mean_squared_error: 0.6584 - val_loss: 0.1947 - val_root_mean_squared_error: 0.4412\n",
      "Epoch 14/50\n",
      "39/39 [==============================] - 3s 76ms/step - loss: 0.3300 - root_mean_squared_error: 0.5745 - val_loss: 0.1782 - val_root_mean_squared_error: 0.4221\n",
      "Epoch 15/50\n",
      "39/39 [==============================] - 3s 76ms/step - loss: 0.2880 - root_mean_squared_error: 0.5367 - val_loss: 0.1626 - val_root_mean_squared_error: 0.4033\n",
      "Epoch 16/50\n",
      "39/39 [==============================] - 3s 73ms/step - loss: 0.2550 - root_mean_squared_error: 0.5050 - val_loss: 0.1475 - val_root_mean_squared_error: 0.3841\n",
      "Epoch 17/50\n",
      "39/39 [==============================] - 3s 71ms/step - loss: 0.2000 - root_mean_squared_error: 0.4472 - val_loss: 0.1355 - val_root_mean_squared_error: 0.3682\n",
      "Epoch 18/50\n",
      "39/39 [==============================] - 3s 73ms/step - loss: 0.2065 - root_mean_squared_error: 0.4544 - val_loss: 0.1235 - val_root_mean_squared_error: 0.3515\n",
      "Epoch 19/50\n",
      "39/39 [==============================] - 3s 73ms/step - loss: 0.1604 - root_mean_squared_error: 0.4005 - val_loss: 0.1146 - val_root_mean_squared_error: 0.3385\n",
      "Epoch 20/50\n",
      "39/39 [==============================] - 3s 74ms/step - loss: 0.1746 - root_mean_squared_error: 0.4178 - val_loss: 0.1054 - val_root_mean_squared_error: 0.3246\n",
      "Epoch 21/50\n",
      "39/39 [==============================] - 3s 73ms/step - loss: 0.1758 - root_mean_squared_error: 0.4192 - val_loss: 0.0969 - val_root_mean_squared_error: 0.3113\n",
      "Epoch 22/50\n",
      "39/39 [==============================] - 3s 77ms/step - loss: 0.1169 - root_mean_squared_error: 0.3418 - val_loss: 0.0917 - val_root_mean_squared_error: 0.3028\n",
      "Epoch 23/50\n",
      "39/39 [==============================] - 3s 75ms/step - loss: 0.1256 - root_mean_squared_error: 0.3544 - val_loss: 0.0868 - val_root_mean_squared_error: 0.2947\n",
      "Epoch 24/50\n",
      "39/39 [==============================] - 3s 74ms/step - loss: 0.1174 - root_mean_squared_error: 0.3427 - val_loss: 0.0836 - val_root_mean_squared_error: 0.2891\n",
      "Epoch 25/50\n",
      "39/39 [==============================] - 3s 74ms/step - loss: 0.1027 - root_mean_squared_error: 0.3205 - val_loss: 0.0799 - val_root_mean_squared_error: 0.2827\n",
      "Epoch 26/50\n",
      "39/39 [==============================] - 3s 76ms/step - loss: 0.0993 - root_mean_squared_error: 0.3151 - val_loss: 0.0770 - val_root_mean_squared_error: 0.2774\n",
      "Epoch 27/50\n",
      "39/39 [==============================] - 3s 72ms/step - loss: 0.1045 - root_mean_squared_error: 0.3233 - val_loss: 0.0746 - val_root_mean_squared_error: 0.2731\n",
      "Epoch 28/50\n",
      "39/39 [==============================] - 3s 74ms/step - loss: 0.0929 - root_mean_squared_error: 0.3048 - val_loss: 0.0719 - val_root_mean_squared_error: 0.2682\n",
      "Epoch 29/50\n",
      "39/39 [==============================] - 3s 78ms/step - loss: 0.0806 - root_mean_squared_error: 0.2839 - val_loss: 0.0701 - val_root_mean_squared_error: 0.2647\n",
      "Epoch 30/50\n",
      "39/39 [==============================] - 3s 75ms/step - loss: 0.0907 - root_mean_squared_error: 0.3012 - val_loss: 0.0681 - val_root_mean_squared_error: 0.2609\n",
      "Epoch 31/50\n",
      "39/39 [==============================] - 3s 74ms/step - loss: 0.0824 - root_mean_squared_error: 0.2870 - val_loss: 0.0657 - val_root_mean_squared_error: 0.2564\n",
      "Epoch 32/50\n",
      "39/39 [==============================] - 3s 74ms/step - loss: 0.0831 - root_mean_squared_error: 0.2884 - val_loss: 0.0642 - val_root_mean_squared_error: 0.2533\n",
      "Epoch 33/50\n",
      "39/39 [==============================] - 3s 75ms/step - loss: 0.0830 - root_mean_squared_error: 0.2880 - val_loss: 0.0625 - val_root_mean_squared_error: 0.2501\n",
      "Epoch 34/50\n",
      "39/39 [==============================] - 3s 80ms/step - loss: 0.0777 - root_mean_squared_error: 0.2787 - val_loss: 0.0613 - val_root_mean_squared_error: 0.2476\n",
      "Epoch 35/50\n",
      "39/39 [==============================] - 3s 77ms/step - loss: 0.0707 - root_mean_squared_error: 0.2659 - val_loss: 0.0599 - val_root_mean_squared_error: 0.2448\n",
      "Epoch 36/50\n",
      "39/39 [==============================] - 3s 77ms/step - loss: 0.0704 - root_mean_squared_error: 0.2654 - val_loss: 0.0593 - val_root_mean_squared_error: 0.2434\n",
      "Epoch 37/50\n",
      "39/39 [==============================] - 3s 75ms/step - loss: 0.0673 - root_mean_squared_error: 0.2594 - val_loss: 0.0583 - val_root_mean_squared_error: 0.2415\n",
      "Epoch 38/50\n",
      "39/39 [==============================] - 3s 74ms/step - loss: 0.0687 - root_mean_squared_error: 0.2620 - val_loss: 0.0573 - val_root_mean_squared_error: 0.2393\n",
      "Epoch 39/50\n",
      "39/39 [==============================] - 3s 72ms/step - loss: 0.0654 - root_mean_squared_error: 0.2558 - val_loss: 0.0567 - val_root_mean_squared_error: 0.2381\n",
      "Epoch 40/50\n",
      "39/39 [==============================] - 3s 86ms/step - loss: 0.0602 - root_mean_squared_error: 0.2454 - val_loss: 0.0561 - val_root_mean_squared_error: 0.2368\n",
      "Epoch 41/50\n",
      "39/39 [==============================] - 3s 75ms/step - loss: 0.0658 - root_mean_squared_error: 0.2564 - val_loss: 0.0554 - val_root_mean_squared_error: 0.2354\n",
      "Epoch 42/50\n",
      "39/39 [==============================] - 4s 103ms/step - loss: 0.0629 - root_mean_squared_error: 0.2509 - val_loss: 0.0550 - val_root_mean_squared_error: 0.2345\n",
      "Epoch 43/50\n",
      "39/39 [==============================] - 3s 78ms/step - loss: 0.0653 - root_mean_squared_error: 0.2556 - val_loss: 0.0544 - val_root_mean_squared_error: 0.2332\n",
      "Epoch 44/50\n",
      "39/39 [==============================] - 3s 78ms/step - loss: 0.0548 - root_mean_squared_error: 0.2341 - val_loss: 0.0542 - val_root_mean_squared_error: 0.2327\n",
      "Epoch 45/50\n",
      "39/39 [==============================] - 3s 80ms/step - loss: 0.0656 - root_mean_squared_error: 0.2561 - val_loss: 0.0538 - val_root_mean_squared_error: 0.2320\n",
      "Epoch 46/50\n",
      "39/39 [==============================] - 3s 76ms/step - loss: 0.0612 - root_mean_squared_error: 0.2474 - val_loss: 0.0535 - val_root_mean_squared_error: 0.2313\n",
      "Epoch 47/50\n",
      "39/39 [==============================] - 3s 74ms/step - loss: 0.0550 - root_mean_squared_error: 0.2344 - val_loss: 0.0533 - val_root_mean_squared_error: 0.2308\n",
      "Epoch 48/50\n",
      "39/39 [==============================] - 3s 74ms/step - loss: 0.0532 - root_mean_squared_error: 0.2306 - val_loss: 0.0531 - val_root_mean_squared_error: 0.2304\n",
      "Epoch 49/50\n",
      "39/39 [==============================] - 3s 72ms/step - loss: 0.0571 - root_mean_squared_error: 0.2389 - val_loss: 0.0529 - val_root_mean_squared_error: 0.2299\n",
      "Epoch 50/50\n",
      "39/39 [==============================] - 3s 75ms/step - loss: 0.0536 - root_mean_squared_error: 0.2315 - val_loss: 0.0527 - val_root_mean_squared_error: 0.2296\n"
     ]
    }
   ],
   "source": [
    "early_stopping = EarlyStopping(monitor='val_loss', patience=5, restore_best_weights=True)\n",
    "opt = Adam(learning_rate=0.02)\n",
    "model.compile(loss='mean_squared_error', optimizer=opt, metrics=[RootMeanSquaredError()])\n",
    "hist = model.fit([X_train, day_train, month_train, spec_train], y_train, batch_size=32, epochs=50, validation_data=([X_test, day_test, month_test, spec_test], y_test), callbacks=[early_stopping])"
   ]
  },
  {
   "cell_type": "code",
   "execution_count": 174,
   "id": "3b8172ab-5245-49a9-a3fb-67e1a7c15230",
   "metadata": {},
   "outputs": [
    {
     "data": {
      "image/png": "[encoded data removed]",
      "text/plain": [
       "<Figure size 1200x600 with 1 Axes>"
      ]
     },
     "metadata": {},
     "output_type": "display_data"
    }
   ],
   "source": [
    "plt.figure(figsize=(12, 6))\n",
    "#plt.plot(hist.history['loss'], label='Train Loss')\n",
    "plt.plot(hist.history['val_loss'], label='Validation Loss')\n",
    "plt.title('Model Loss')\n",
    "plt.xlabel('Epochs')\n",
    "plt.ylabel('Loss')\n",
    "plt.legend()\n",
    "\n",
    "plt.show()"
   ]
  },
  {
   "cell_type": "code",
   "execution_count": null,
   "id": "5eb1bf72-2400-4cfd-94a9-e82d9cf10062",
   "metadata": {},
   "outputs": [],
   "source": []
  }
 ],
 "metadata": {
  "kernelspec": {
   "display_name": "Python 3 (ipykernel)",
   "language": "python",
   "name": "python3"
  },
  "language_info": {
   "codemirror_mode": {
    "name": "ipython",
    "version": 3
   },
   "file_extension": ".py",
   "mimetype": "text/x-python",
   "name": "python",
   "nbconvert_exporter": "python",
   "pygments_lexer": "ipython3",
   "version": "3.10.6"
  }
 },
 "nbformat": 4,
 "nbformat_minor": 5
}
